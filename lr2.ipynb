{
 "cells": [
  {
   "cell_type": "markdown",
   "metadata": {},
   "source": [
    "### Лабораторная работа №2\n",
    "#### Классификация"
   ]
  },
  {
   "cell_type": "markdown",
   "metadata": {},
   "source": [
    "Датасет **Car Accidents in Brazil (2017-2023)** https://www.kaggle.com/datasets/mlippo/car-accidents-in-brazil-2017-2023"
   ]
  },
  {
   "cell_type": "code",
   "execution_count": 3,
   "metadata": {},
   "outputs": [],
   "source": [
    "import numpy as np\n",
    "import pandas as pd\n",
    "import seaborn as sns\n",
    "sns.set_palette('husl')\n",
    "import matplotlib.pyplot as plt\n",
    "%matplotlib inline\n",
    "from sklearn.model_selection import train_test_split\n",
    "from sklearn.model_selection import cross_val_score\n",
    "from sklearn.model_selection import StratifiedKFold\n",
    "from sklearn.metrics import classification_report\n",
    "from sklearn.metrics import accuracy_score\n",
    "from sklearn.linear_model import LogisticRegression\n",
    "from sklearn.tree import DecisionTreeClassifier\n",
    "from sklearn.neighbors import KNeighborsClassifier\n",
    "from sklearn.discriminant_analysis import LinearDiscriminantAnalysis\n",
    "from sklearn.naive_bayes import GaussianNB\n",
    "from sklearn.svm import SVC"
   ]
  },
  {
   "cell_type": "code",
   "execution_count": 4,
   "metadata": {},
   "outputs": [],
   "source": [
    "df_orig = pd.read_csv(\"datasets/accidents_2017_to_2023_english.csv\")"
   ]
  },
  {
   "cell_type": "code",
   "execution_count": 5,
   "metadata": {},
   "outputs": [
    {
     "data": {
      "text/html": [
       "<div>\n",
       "<style scoped>\n",
       "    .dataframe tbody tr th:only-of-type {\n",
       "        vertical-align: middle;\n",
       "    }\n",
       "\n",
       "    .dataframe tbody tr th {\n",
       "        vertical-align: top;\n",
       "    }\n",
       "\n",
       "    .dataframe thead th {\n",
       "        text-align: right;\n",
       "    }\n",
       "</style>\n",
       "<table border=\"1\" class=\"dataframe\">\n",
       "  <thead>\n",
       "    <tr style=\"text-align: right;\">\n",
       "      <th></th>\n",
       "      <th>road_id</th>\n",
       "      <th>people</th>\n",
       "      <th>deaths</th>\n",
       "      <th>slightly_injured</th>\n",
       "      <th>severely_injured</th>\n",
       "      <th>uninjured</th>\n",
       "      <th>ignored</th>\n",
       "      <th>total_injured</th>\n",
       "      <th>vehicles_involved</th>\n",
       "      <th>latitude</th>\n",
       "      <th>longitude</th>\n",
       "    </tr>\n",
       "  </thead>\n",
       "  <tbody>\n",
       "    <tr>\n",
       "      <th>count</th>\n",
       "      <td>462162.000000</td>\n",
       "      <td>463152.000000</td>\n",
       "      <td>463152.000000</td>\n",
       "      <td>463152.000000</td>\n",
       "      <td>463152.000000</td>\n",
       "      <td>463152.000000</td>\n",
       "      <td>463152.000000</td>\n",
       "      <td>463152.000000</td>\n",
       "      <td>463152.000000</td>\n",
       "      <td>4.631520e+05</td>\n",
       "      <td>4.631520e+05</td>\n",
       "    </tr>\n",
       "    <tr>\n",
       "      <th>mean</th>\n",
       "      <td>213.432900</td>\n",
       "      <td>2.362373</td>\n",
       "      <td>0.079235</td>\n",
       "      <td>0.835469</td>\n",
       "      <td>0.259530</td>\n",
       "      <td>1.044070</td>\n",
       "      <td>0.144069</td>\n",
       "      <td>1.094999</td>\n",
       "      <td>1.645725</td>\n",
       "      <td>-2.343287e+03</td>\n",
       "      <td>-8.924977e+03</td>\n",
       "    </tr>\n",
       "    <tr>\n",
       "      <th>std</th>\n",
       "      <td>130.757607</td>\n",
       "      <td>1.924801</td>\n",
       "      <td>0.332169</td>\n",
       "      <td>1.075275</td>\n",
       "      <td>0.602814</td>\n",
       "      <td>1.502419</td>\n",
       "      <td>0.438168</td>\n",
       "      <td>1.205351</td>\n",
       "      <td>0.731394</td>\n",
       "      <td>1.519113e+06</td>\n",
       "      <td>5.903043e+06</td>\n",
       "    </tr>\n",
       "    <tr>\n",
       "      <th>min</th>\n",
       "      <td>10.000000</td>\n",
       "      <td>1.000000</td>\n",
       "      <td>0.000000</td>\n",
       "      <td>0.000000</td>\n",
       "      <td>0.000000</td>\n",
       "      <td>0.000000</td>\n",
       "      <td>0.000000</td>\n",
       "      <td>0.000000</td>\n",
       "      <td>1.000000</td>\n",
       "      <td>-1.033383e+09</td>\n",
       "      <td>-4.016764e+09</td>\n",
       "    </tr>\n",
       "    <tr>\n",
       "      <th>25%</th>\n",
       "      <td>101.000000</td>\n",
       "      <td>1.000000</td>\n",
       "      <td>0.000000</td>\n",
       "      <td>0.000000</td>\n",
       "      <td>0.000000</td>\n",
       "      <td>0.000000</td>\n",
       "      <td>0.000000</td>\n",
       "      <td>0.000000</td>\n",
       "      <td>1.000000</td>\n",
       "      <td>-2.533123e+01</td>\n",
       "      <td>-5.030294e+01</td>\n",
       "    </tr>\n",
       "    <tr>\n",
       "      <th>50%</th>\n",
       "      <td>163.000000</td>\n",
       "      <td>2.000000</td>\n",
       "      <td>0.000000</td>\n",
       "      <td>1.000000</td>\n",
       "      <td>0.000000</td>\n",
       "      <td>1.000000</td>\n",
       "      <td>0.000000</td>\n",
       "      <td>1.000000</td>\n",
       "      <td>2.000000</td>\n",
       "      <td>-2.042034e+01</td>\n",
       "      <td>-4.780831e+01</td>\n",
       "    </tr>\n",
       "    <tr>\n",
       "      <th>75%</th>\n",
       "      <td>324.000000</td>\n",
       "      <td>3.000000</td>\n",
       "      <td>0.000000</td>\n",
       "      <td>1.000000</td>\n",
       "      <td>0.000000</td>\n",
       "      <td>1.000000</td>\n",
       "      <td>0.000000</td>\n",
       "      <td>1.000000</td>\n",
       "      <td>2.000000</td>\n",
       "      <td>-1.282657e+01</td>\n",
       "      <td>-4.264249e+01</td>\n",
       "    </tr>\n",
       "    <tr>\n",
       "      <th>max</th>\n",
       "      <td>498.000000</td>\n",
       "      <td>80.000000</td>\n",
       "      <td>21.000000</td>\n",
       "      <td>61.000000</td>\n",
       "      <td>31.000000</td>\n",
       "      <td>73.000000</td>\n",
       "      <td>54.000000</td>\n",
       "      <td>66.000000</td>\n",
       "      <td>23.000000</td>\n",
       "      <td>1.630000e+02</td>\n",
       "      <td>7.170000e+02</td>\n",
       "    </tr>\n",
       "  </tbody>\n",
       "</table>\n",
       "</div>"
      ],
      "text/plain": [
       "             road_id         people         deaths  slightly_injured  \\\n",
       "count  462162.000000  463152.000000  463152.000000     463152.000000   \n",
       "mean      213.432900       2.362373       0.079235          0.835469   \n",
       "std       130.757607       1.924801       0.332169          1.075275   \n",
       "min        10.000000       1.000000       0.000000          0.000000   \n",
       "25%       101.000000       1.000000       0.000000          0.000000   \n",
       "50%       163.000000       2.000000       0.000000          1.000000   \n",
       "75%       324.000000       3.000000       0.000000          1.000000   \n",
       "max       498.000000      80.000000      21.000000         61.000000   \n",
       "\n",
       "       severely_injured      uninjured        ignored  total_injured  \\\n",
       "count     463152.000000  463152.000000  463152.000000  463152.000000   \n",
       "mean           0.259530       1.044070       0.144069       1.094999   \n",
       "std            0.602814       1.502419       0.438168       1.205351   \n",
       "min            0.000000       0.000000       0.000000       0.000000   \n",
       "25%            0.000000       0.000000       0.000000       0.000000   \n",
       "50%            0.000000       1.000000       0.000000       1.000000   \n",
       "75%            0.000000       1.000000       0.000000       1.000000   \n",
       "max           31.000000      73.000000      54.000000      66.000000   \n",
       "\n",
       "       vehicles_involved      latitude     longitude  \n",
       "count      463152.000000  4.631520e+05  4.631520e+05  \n",
       "mean            1.645725 -2.343287e+03 -8.924977e+03  \n",
       "std             0.731394  1.519113e+06  5.903043e+06  \n",
       "min             1.000000 -1.033383e+09 -4.016764e+09  \n",
       "25%             1.000000 -2.533123e+01 -5.030294e+01  \n",
       "50%             2.000000 -2.042034e+01 -4.780831e+01  \n",
       "75%             2.000000 -1.282657e+01 -4.264249e+01  \n",
       "max            23.000000  1.630000e+02  7.170000e+02  "
      ]
     },
     "execution_count": 5,
     "metadata": {},
     "output_type": "execute_result"
    }
   ],
   "source": [
    "df_orig.describe()"
   ]
  },
  {
   "cell_type": "code",
   "execution_count": 6,
   "metadata": {},
   "outputs": [
    {
     "data": {
      "text/html": [
       "<div>\n",
       "<style scoped>\n",
       "    .dataframe tbody tr th:only-of-type {\n",
       "        vertical-align: middle;\n",
       "    }\n",
       "\n",
       "    .dataframe tbody tr th {\n",
       "        vertical-align: top;\n",
       "    }\n",
       "\n",
       "    .dataframe thead th {\n",
       "        text-align: right;\n",
       "    }\n",
       "</style>\n",
       "<table border=\"1\" class=\"dataframe\">\n",
       "  <thead>\n",
       "    <tr style=\"text-align: right;\">\n",
       "      <th></th>\n",
       "      <th>inverse_data</th>\n",
       "      <th>week_day</th>\n",
       "      <th>hour</th>\n",
       "      <th>state</th>\n",
       "      <th>road_id</th>\n",
       "      <th>km</th>\n",
       "      <th>city</th>\n",
       "      <th>cause_of_accident</th>\n",
       "      <th>type_of_accident</th>\n",
       "      <th>victims_condition</th>\n",
       "      <th>...</th>\n",
       "      <th>slightly_injured</th>\n",
       "      <th>severely_injured</th>\n",
       "      <th>uninjured</th>\n",
       "      <th>ignored</th>\n",
       "      <th>total_injured</th>\n",
       "      <th>vehicles_involved</th>\n",
       "      <th>latitude</th>\n",
       "      <th>longitude</th>\n",
       "      <th>regional</th>\n",
       "      <th>police_station</th>\n",
       "    </tr>\n",
       "  </thead>\n",
       "  <tbody>\n",
       "    <tr>\n",
       "      <th>0</th>\n",
       "      <td>2017-01-01</td>\n",
       "      <td>sunday</td>\n",
       "      <td>01:45:00</td>\n",
       "      <td>RS</td>\n",
       "      <td>116.0</td>\n",
       "      <td>34,9</td>\n",
       "      <td>VACARIA</td>\n",
       "      <td>Mechanical loss/defect of vehicle</td>\n",
       "      <td>Rear-end collision</td>\n",
       "      <td>With injured victims</td>\n",
       "      <td>...</td>\n",
       "      <td>4</td>\n",
       "      <td>0</td>\n",
       "      <td>2</td>\n",
       "      <td>0</td>\n",
       "      <td>4</td>\n",
       "      <td>2</td>\n",
       "      <td>-28.50712</td>\n",
       "      <td>-50.94118</td>\n",
       "      <td>SPRF-RS</td>\n",
       "      <td>DEL05-RS</td>\n",
       "    </tr>\n",
       "    <tr>\n",
       "      <th>1</th>\n",
       "      <td>2017-01-01</td>\n",
       "      <td>sunday</td>\n",
       "      <td>01:00:00</td>\n",
       "      <td>PR</td>\n",
       "      <td>376.0</td>\n",
       "      <td>636</td>\n",
       "      <td>TIJUCAS DO SUL</td>\n",
       "      <td>Incompatible velocity</td>\n",
       "      <td>Run-off-road</td>\n",
       "      <td>With dead victims</td>\n",
       "      <td>...</td>\n",
       "      <td>0</td>\n",
       "      <td>0</td>\n",
       "      <td>1</td>\n",
       "      <td>0</td>\n",
       "      <td>0</td>\n",
       "      <td>2</td>\n",
       "      <td>-25.75400</td>\n",
       "      <td>-49.12660</td>\n",
       "      <td>SPRF-PR</td>\n",
       "      <td>DEL01-PR</td>\n",
       "    </tr>\n",
       "    <tr>\n",
       "      <th>2</th>\n",
       "      <td>2017-01-01</td>\n",
       "      <td>sunday</td>\n",
       "      <td>04:40:00</td>\n",
       "      <td>BA</td>\n",
       "      <td>101.0</td>\n",
       "      <td>65</td>\n",
       "      <td>ENTRE RIOS</td>\n",
       "      <td>Driver was sleeping</td>\n",
       "      <td>Head-on collision</td>\n",
       "      <td>With dead victims</td>\n",
       "      <td>...</td>\n",
       "      <td>1</td>\n",
       "      <td>1</td>\n",
       "      <td>2</td>\n",
       "      <td>0</td>\n",
       "      <td>2</td>\n",
       "      <td>2</td>\n",
       "      <td>-11.96180</td>\n",
       "      <td>-38.09530</td>\n",
       "      <td>SPRF-BA</td>\n",
       "      <td>DEL01-BA</td>\n",
       "    </tr>\n",
       "    <tr>\n",
       "      <th>3</th>\n",
       "      <td>2017-01-01</td>\n",
       "      <td>sunday</td>\n",
       "      <td>06:30:00</td>\n",
       "      <td>PA</td>\n",
       "      <td>316.0</td>\n",
       "      <td>72,5</td>\n",
       "      <td>CASTANHAL</td>\n",
       "      <td>Driver's lack of attention to conveyance</td>\n",
       "      <td>Side impact collision</td>\n",
       "      <td>With dead victims</td>\n",
       "      <td>...</td>\n",
       "      <td>0</td>\n",
       "      <td>0</td>\n",
       "      <td>3</td>\n",
       "      <td>0</td>\n",
       "      <td>0</td>\n",
       "      <td>3</td>\n",
       "      <td>-1.28998</td>\n",
       "      <td>-47.83483</td>\n",
       "      <td>SPRF-PA</td>\n",
       "      <td>DEL01-PA</td>\n",
       "    </tr>\n",
       "    <tr>\n",
       "      <th>4</th>\n",
       "      <td>2017-01-01</td>\n",
       "      <td>sunday</td>\n",
       "      <td>09:00:00</td>\n",
       "      <td>GO</td>\n",
       "      <td>20.0</td>\n",
       "      <td>220,5</td>\n",
       "      <td>POSSE</td>\n",
       "      <td>Road's defect</td>\n",
       "      <td>Collision with fixed object</td>\n",
       "      <td>With injured victims</td>\n",
       "      <td>...</td>\n",
       "      <td>2</td>\n",
       "      <td>1</td>\n",
       "      <td>0</td>\n",
       "      <td>0</td>\n",
       "      <td>3</td>\n",
       "      <td>1</td>\n",
       "      <td>-14.14221</td>\n",
       "      <td>-46.32259</td>\n",
       "      <td>SPRF-DF</td>\n",
       "      <td>DEL02-DF</td>\n",
       "    </tr>\n",
       "    <tr>\n",
       "      <th>5</th>\n",
       "      <td>2017-01-01</td>\n",
       "      <td>sunday</td>\n",
       "      <td>07:40:00</td>\n",
       "      <td>RN</td>\n",
       "      <td>405.0</td>\n",
       "      <td>30</td>\n",
       "      <td>MOSSORO</td>\n",
       "      <td>Alcohol consumption</td>\n",
       "      <td>Head-on collision</td>\n",
       "      <td>With dead victims</td>\n",
       "      <td>...</td>\n",
       "      <td>0</td>\n",
       "      <td>0</td>\n",
       "      <td>1</td>\n",
       "      <td>0</td>\n",
       "      <td>0</td>\n",
       "      <td>2</td>\n",
       "      <td>-5.31360</td>\n",
       "      <td>-37.56900</td>\n",
       "      <td>SPRF-RN</td>\n",
       "      <td>DEL04-RN</td>\n",
       "    </tr>\n",
       "    <tr>\n",
       "      <th>6</th>\n",
       "      <td>2017-01-01</td>\n",
       "      <td>sunday</td>\n",
       "      <td>10:35:00</td>\n",
       "      <td>PR</td>\n",
       "      <td>376.0</td>\n",
       "      <td>249,5</td>\n",
       "      <td>APUCARANA</td>\n",
       "      <td>Disrespect of safe distance from the next car</td>\n",
       "      <td>Rear-end collision</td>\n",
       "      <td>With injured victims</td>\n",
       "      <td>...</td>\n",
       "      <td>1</td>\n",
       "      <td>0</td>\n",
       "      <td>4</td>\n",
       "      <td>0</td>\n",
       "      <td>1</td>\n",
       "      <td>2</td>\n",
       "      <td>-23.61074</td>\n",
       "      <td>-51.39895</td>\n",
       "      <td>SPRF-PR</td>\n",
       "      <td>DEL07-PR</td>\n",
       "    </tr>\n",
       "    <tr>\n",
       "      <th>7</th>\n",
       "      <td>2017-01-01</td>\n",
       "      <td>sunday</td>\n",
       "      <td>11:50:00</td>\n",
       "      <td>MG</td>\n",
       "      <td>262.0</td>\n",
       "      <td>483,1</td>\n",
       "      <td>BOM DESPACHO</td>\n",
       "      <td>Driver was sleeping</td>\n",
       "      <td>Side impact collision</td>\n",
       "      <td>Without victims</td>\n",
       "      <td>...</td>\n",
       "      <td>0</td>\n",
       "      <td>0</td>\n",
       "      <td>2</td>\n",
       "      <td>0</td>\n",
       "      <td>0</td>\n",
       "      <td>2</td>\n",
       "      <td>-19.78562</td>\n",
       "      <td>-45.30956</td>\n",
       "      <td>SPRF-MG</td>\n",
       "      <td>DEL08-MG</td>\n",
       "    </tr>\n",
       "    <tr>\n",
       "      <th>8</th>\n",
       "      <td>2017-01-01</td>\n",
       "      <td>sunday</td>\n",
       "      <td>10:30:00</td>\n",
       "      <td>MT</td>\n",
       "      <td>364.0</td>\n",
       "      <td>469</td>\n",
       "      <td>VARZEA GRANDE</td>\n",
       "      <td>Mechanical loss/defect of vehicle</td>\n",
       "      <td>Overturn</td>\n",
       "      <td>With injured victims</td>\n",
       "      <td>...</td>\n",
       "      <td>3</td>\n",
       "      <td>0</td>\n",
       "      <td>0</td>\n",
       "      <td>0</td>\n",
       "      <td>3</td>\n",
       "      <td>1</td>\n",
       "      <td>-15.35687</td>\n",
       "      <td>-56.41299</td>\n",
       "      <td>SPRF-MT</td>\n",
       "      <td>DEL01-MT</td>\n",
       "    </tr>\n",
       "    <tr>\n",
       "      <th>9</th>\n",
       "      <td>2017-01-01</td>\n",
       "      <td>sunday</td>\n",
       "      <td>08:30:00</td>\n",
       "      <td>MA</td>\n",
       "      <td>316.0</td>\n",
       "      <td>375</td>\n",
       "      <td>BACABAL</td>\n",
       "      <td>Alcohol consumption</td>\n",
       "      <td>Head-on collision</td>\n",
       "      <td>With dead victims</td>\n",
       "      <td>...</td>\n",
       "      <td>0</td>\n",
       "      <td>0</td>\n",
       "      <td>1</td>\n",
       "      <td>0</td>\n",
       "      <td>0</td>\n",
       "      <td>2</td>\n",
       "      <td>-4.21350</td>\n",
       "      <td>-44.66290</td>\n",
       "      <td>SPRF-MA</td>\n",
       "      <td>DEL02-MA</td>\n",
       "    </tr>\n",
       "  </tbody>\n",
       "</table>\n",
       "<p>10 rows × 27 columns</p>\n",
       "</div>"
      ],
      "text/plain": [
       "  inverse_data week_day      hour state  road_id     km            city  \\\n",
       "0   2017-01-01   sunday  01:45:00    RS    116.0   34,9         VACARIA   \n",
       "1   2017-01-01   sunday  01:00:00    PR    376.0    636  TIJUCAS DO SUL   \n",
       "2   2017-01-01   sunday  04:40:00    BA    101.0     65      ENTRE RIOS   \n",
       "3   2017-01-01   sunday  06:30:00    PA    316.0   72,5       CASTANHAL   \n",
       "4   2017-01-01   sunday  09:00:00    GO     20.0  220,5           POSSE   \n",
       "5   2017-01-01   sunday  07:40:00    RN    405.0     30         MOSSORO   \n",
       "6   2017-01-01   sunday  10:35:00    PR    376.0  249,5       APUCARANA   \n",
       "7   2017-01-01   sunday  11:50:00    MG    262.0  483,1    BOM DESPACHO   \n",
       "8   2017-01-01   sunday  10:30:00    MT    364.0    469   VARZEA GRANDE   \n",
       "9   2017-01-01   sunday  08:30:00    MA    316.0    375         BACABAL   \n",
       "\n",
       "                               cause_of_accident             type_of_accident  \\\n",
       "0              Mechanical loss/defect of vehicle           Rear-end collision   \n",
       "1                          Incompatible velocity                 Run-off-road   \n",
       "2                            Driver was sleeping            Head-on collision   \n",
       "3       Driver's lack of attention to conveyance        Side impact collision   \n",
       "4                                  Road's defect  Collision with fixed object   \n",
       "5                            Alcohol consumption            Head-on collision   \n",
       "6  Disrespect of safe distance from the next car           Rear-end collision   \n",
       "7                            Driver was sleeping        Side impact collision   \n",
       "8              Mechanical loss/defect of vehicle                     Overturn   \n",
       "9                            Alcohol consumption            Head-on collision   \n",
       "\n",
       "      victims_condition  ... slightly_injured severely_injured uninjured  \\\n",
       "0  With injured victims  ...                4                0         2   \n",
       "1     With dead victims  ...                0                0         1   \n",
       "2     With dead victims  ...                1                1         2   \n",
       "3     With dead victims  ...                0                0         3   \n",
       "4  With injured victims  ...                2                1         0   \n",
       "5     With dead victims  ...                0                0         1   \n",
       "6  With injured victims  ...                1                0         4   \n",
       "7       Without victims  ...                0                0         2   \n",
       "8  With injured victims  ...                3                0         0   \n",
       "9     With dead victims  ...                0                0         1   \n",
       "\n",
       "  ignored total_injured  vehicles_involved  latitude  longitude  regional  \\\n",
       "0       0             4                  2 -28.50712  -50.94118   SPRF-RS   \n",
       "1       0             0                  2 -25.75400  -49.12660   SPRF-PR   \n",
       "2       0             2                  2 -11.96180  -38.09530   SPRF-BA   \n",
       "3       0             0                  3  -1.28998  -47.83483   SPRF-PA   \n",
       "4       0             3                  1 -14.14221  -46.32259   SPRF-DF   \n",
       "5       0             0                  2  -5.31360  -37.56900   SPRF-RN   \n",
       "6       0             1                  2 -23.61074  -51.39895   SPRF-PR   \n",
       "7       0             0                  2 -19.78562  -45.30956   SPRF-MG   \n",
       "8       0             3                  1 -15.35687  -56.41299   SPRF-MT   \n",
       "9       0             0                  2  -4.21350  -44.66290   SPRF-MA   \n",
       "\n",
       "   police_station  \n",
       "0        DEL05-RS  \n",
       "1        DEL01-PR  \n",
       "2        DEL01-BA  \n",
       "3        DEL01-PA  \n",
       "4        DEL02-DF  \n",
       "5        DEL04-RN  \n",
       "6        DEL07-PR  \n",
       "7        DEL08-MG  \n",
       "8        DEL01-MT  \n",
       "9        DEL02-MA  \n",
       "\n",
       "[10 rows x 27 columns]"
      ]
     },
     "execution_count": 6,
     "metadata": {},
     "output_type": "execute_result"
    }
   ],
   "source": [
    "df_orig.head(10)\n"
   ]
  },
  {
   "cell_type": "code",
   "execution_count": 7,
   "metadata": {},
   "outputs": [
    {
     "name": "stdout",
     "output_type": "stream",
     "text": [
      "<class 'pandas.core.frame.DataFrame'>\n",
      "RangeIndex: 463152 entries, 0 to 463151\n",
      "Data columns (total 27 columns):\n",
      " #   Column              Non-Null Count   Dtype  \n",
      "---  ------              --------------   -----  \n",
      " 0   inverse_data        463152 non-null  object \n",
      " 1   week_day            463152 non-null  object \n",
      " 2   hour                463152 non-null  object \n",
      " 3   state               463152 non-null  object \n",
      " 4   road_id             462162 non-null  float64\n",
      " 5   km                  462162 non-null  object \n",
      " 6   city                463152 non-null  object \n",
      " 7   cause_of_accident   463152 non-null  object \n",
      " 8   type_of_accident    463152 non-null  object \n",
      " 9   victims_condition   463152 non-null  object \n",
      " 10  weather_timestamp   463152 non-null  object \n",
      " 11  road_direction      463152 non-null  object \n",
      " 12  wheather_condition  463152 non-null  object \n",
      " 13  road_type           463152 non-null  object \n",
      " 14  road_delineation    463152 non-null  object \n",
      " 15  people              463152 non-null  int64  \n",
      " 16  deaths              463152 non-null  int64  \n",
      " 17  slightly_injured    463152 non-null  int64  \n",
      " 18  severely_injured    463152 non-null  int64  \n",
      " 19  uninjured           463152 non-null  int64  \n",
      " 20  ignored             463152 non-null  int64  \n",
      " 21  total_injured       463152 non-null  int64  \n",
      " 22  vehicles_involved   463152 non-null  int64  \n",
      " 23  latitude            463152 non-null  float64\n",
      " 24  longitude           463152 non-null  float64\n",
      " 25  regional            463142 non-null  object \n",
      " 26  police_station      461842 non-null  object \n",
      "dtypes: float64(3), int64(8), object(16)\n",
      "memory usage: 95.4+ MB\n"
     ]
    }
   ],
   "source": [
    "df_orig.info()"
   ]
  },
  {
   "cell_type": "code",
   "execution_count": 8,
   "metadata": {},
   "outputs": [
    {
     "data": {
      "text/plain": [
       "array([ 0,  1,  2,  3,  4,  5,  6,  8, 21,  7, 11,  9, 10, 13, 12, 19])"
      ]
     },
     "execution_count": 8,
     "metadata": {},
     "output_type": "execute_result"
    }
   ],
   "source": [
    "df_orig['deaths'].unique()"
   ]
  },
  {
   "cell_type": "code",
   "execution_count": 9,
   "metadata": {},
   "outputs": [
    {
     "data": {
      "text/plain": [
       "array(['sunday', 'monday', 'tuesday', 'wednesday', 'thursday', 'friday',\n",
       "       'saturday'], dtype=object)"
      ]
     },
     "execution_count": 9,
     "metadata": {},
     "output_type": "execute_result"
    }
   ],
   "source": [
    "df_orig['week_day'].unique()"
   ]
  },
  {
   "cell_type": "code",
   "execution_count": 10,
   "metadata": {},
   "outputs": [
    {
     "data": {
      "text/plain": [
       "array(['01:45:00', '01:00:00', '04:40:00', ..., '03:56:00', '04:36:00',\n",
       "       '03:13:00'], dtype=object)"
      ]
     },
     "execution_count": 10,
     "metadata": {},
     "output_type": "execute_result"
    }
   ],
   "source": [
    "df_orig['hour'].unique()"
   ]
  },
  {
   "cell_type": "code",
   "execution_count": 11,
   "metadata": {},
   "outputs": [
    {
     "data": {
      "text/plain": [
       "85"
      ]
     },
     "execution_count": 11,
     "metadata": {},
     "output_type": "execute_result"
    }
   ],
   "source": [
    "len(df_orig['cause_of_accident'].unique())"
   ]
  },
  {
   "cell_type": "code",
   "execution_count": 12,
   "metadata": {},
   "outputs": [
    {
     "data": {
      "text/plain": [
       "array(['Rear-end collision', 'Run-off-road', 'Head-on collision',\n",
       "       'Side impact collision', 'Collision with fixed object', 'Overturn',\n",
       "       'Collision with moving object', 'Cargo spill',\n",
       "       'Pedestrian collision', 'Broadside collision', 'Vehicle fire',\n",
       "       'Rollover', 'Animal collision', 'Chain reaction crash (pile-up)',\n",
       "       'Minor incidental damage', 'Fall of vehicle occupant',\n",
       "       'Collision with object', 'Not informed',\n",
       "       'Side collision (same direction)', 'Unusual events',\n",
       "       'Side collision (opposite direction)'], dtype=object)"
      ]
     },
     "execution_count": 12,
     "metadata": {},
     "output_type": "execute_result"
    }
   ],
   "source": [
    "df_orig['type_of_accident'].unique()"
   ]
  },
  {
   "cell_type": "code",
   "execution_count": 13,
   "metadata": {},
   "outputs": [
    {
     "data": {
      "text/plain": [
       "array(['With injured victims', 'With dead victims', 'Without victims'],\n",
       "      dtype=object)"
      ]
     },
     "execution_count": 13,
     "metadata": {},
     "output_type": "execute_result"
    }
   ],
   "source": [
    "df_orig['victims_condition'].unique()"
   ]
  },
  {
   "cell_type": "markdown",
   "metadata": {},
   "source": [
    "Подходит для класса ^"
   ]
  },
  {
   "cell_type": "code",
   "execution_count": 14,
   "metadata": {},
   "outputs": [
    {
     "data": {
      "text/plain": [
       "array(['Clear sky', 'Drizzle', 'Cloudy', 'Sunny', 'Rainy', 'Fog',\n",
       "       'Ignored', 'Windy', 'Hail', 'Snowy'], dtype=object)"
      ]
     },
     "execution_count": 14,
     "metadata": {},
     "output_type": "execute_result"
    }
   ],
   "source": [
    "df_orig['wheather_condition'].unique()"
   ]
  },
  {
   "cell_type": "code",
   "execution_count": 15,
   "metadata": {},
   "outputs": [
    {
     "data": {
      "text/plain": [
       "array(['Simple', 'Double', 'Multiple'], dtype=object)"
      ]
     },
     "execution_count": 15,
     "metadata": {},
     "output_type": "execute_result"
    }
   ],
   "source": [
    "df_orig['road_type'].unique()"
   ]
  },
  {
   "cell_type": "code",
   "execution_count": 16,
   "metadata": {},
   "outputs": [
    {
     "data": {
      "text/plain": [
       "array([ 2,  3,  1,  4,  8,  7,  6,  5, 12,  9, 11, 14, 10, 13, 15, 16, 23,\n",
       "       21])"
      ]
     },
     "execution_count": 16,
     "metadata": {},
     "output_type": "execute_result"
    }
   ],
   "source": [
    "df_orig['vehicles_involved'].unique()"
   ]
  },
  {
   "cell_type": "code",
   "execution_count": 17,
   "metadata": {},
   "outputs": [
    {
     "data": {
      "text/plain": [
       "<Axes: xlabel='state', ylabel='count'>"
      ]
     },
     "execution_count": 17,
     "metadata": {},
     "output_type": "execute_result"
    },
    {
     "data": {
      "image/png": "[encoded data removed]",
      "text/plain": [
       "<Figure size 640x480 with 1 Axes>"
      ]
     },
     "metadata": {},
     "output_type": "display_data"
    }
   ],
   "source": [
    "sns.countplot(x=df_orig['state'])"
   ]
  },
  {
   "cell_type": "markdown",
   "metadata": {},
   "source": [
    "Датасет для обучения"
   ]
  },
  {
   "cell_type": "code",
   "execution_count": 34,
   "metadata": {},
   "outputs": [],
   "source": [
    "df_train = df_orig[['week_day', 'hour', 'state', 'road_id', 'km', 'city', 'cause_of_accident', 'type_of_accident', 'wheather_condition', 'weather_timestamp', 'road_direction', 'road_type', 'vehicles_involved', 'victims_condition']].copy()"
   ]
  },
  {
   "cell_type": "code",
   "execution_count": 35,
   "metadata": {},
   "outputs": [
    {
     "data": {
      "text/html": [
       "<div>\n",
       "<style scoped>\n",
       "    .dataframe tbody tr th:only-of-type {\n",
       "        vertical-align: middle;\n",
       "    }\n",
       "\n",
       "    .dataframe tbody tr th {\n",
       "        vertical-align: top;\n",
       "    }\n",
       "\n",
       "    .dataframe thead th {\n",
       "        text-align: right;\n",
       "    }\n",
       "</style>\n",
       "<table border=\"1\" class=\"dataframe\">\n",
       "  <thead>\n",
       "    <tr style=\"text-align: right;\">\n",
       "      <th></th>\n",
       "      <th>week_day</th>\n",
       "      <th>hour</th>\n",
       "      <th>state</th>\n",
       "      <th>road_id</th>\n",
       "      <th>km</th>\n",
       "      <th>city</th>\n",
       "      <th>cause_of_accident</th>\n",
       "      <th>type_of_accident</th>\n",
       "      <th>wheather_condition</th>\n",
       "      <th>weather_timestamp</th>\n",
       "      <th>road_direction</th>\n",
       "      <th>road_type</th>\n",
       "      <th>vehicles_involved</th>\n",
       "      <th>victims_condition</th>\n",
       "    </tr>\n",
       "  </thead>\n",
       "  <tbody>\n",
       "    <tr>\n",
       "      <th>0</th>\n",
       "      <td>sunday</td>\n",
       "      <td>01:45:00</td>\n",
       "      <td>RS</td>\n",
       "      <td>116.0</td>\n",
       "      <td>34,9</td>\n",
       "      <td>VACARIA</td>\n",
       "      <td>Mechanical loss/defect of vehicle</td>\n",
       "      <td>Rear-end collision</td>\n",
       "      <td>Clear sky</td>\n",
       "      <td>Night</td>\n",
       "      <td>Decreasing</td>\n",
       "      <td>Simple</td>\n",
       "      <td>2</td>\n",
       "      <td>With injured victims</td>\n",
       "    </tr>\n",
       "    <tr>\n",
       "      <th>1</th>\n",
       "      <td>sunday</td>\n",
       "      <td>01:00:00</td>\n",
       "      <td>PR</td>\n",
       "      <td>376.0</td>\n",
       "      <td>636</td>\n",
       "      <td>TIJUCAS DO SUL</td>\n",
       "      <td>Incompatible velocity</td>\n",
       "      <td>Run-off-road</td>\n",
       "      <td>Drizzle</td>\n",
       "      <td>Night</td>\n",
       "      <td>Increasing</td>\n",
       "      <td>Double</td>\n",
       "      <td>2</td>\n",
       "      <td>With dead victims</td>\n",
       "    </tr>\n",
       "    <tr>\n",
       "      <th>2</th>\n",
       "      <td>sunday</td>\n",
       "      <td>04:40:00</td>\n",
       "      <td>BA</td>\n",
       "      <td>101.0</td>\n",
       "      <td>65</td>\n",
       "      <td>ENTRE RIOS</td>\n",
       "      <td>Driver was sleeping</td>\n",
       "      <td>Head-on collision</td>\n",
       "      <td>Cloudy</td>\n",
       "      <td>Sunrise</td>\n",
       "      <td>Decreasing</td>\n",
       "      <td>Simple</td>\n",
       "      <td>2</td>\n",
       "      <td>With dead victims</td>\n",
       "    </tr>\n",
       "    <tr>\n",
       "      <th>3</th>\n",
       "      <td>sunday</td>\n",
       "      <td>06:30:00</td>\n",
       "      <td>PA</td>\n",
       "      <td>316.0</td>\n",
       "      <td>72,5</td>\n",
       "      <td>CASTANHAL</td>\n",
       "      <td>Driver's lack of attention to conveyance</td>\n",
       "      <td>Side impact collision</td>\n",
       "      <td>Clear sky</td>\n",
       "      <td>Sunrise</td>\n",
       "      <td>Decreasing</td>\n",
       "      <td>Simple</td>\n",
       "      <td>3</td>\n",
       "      <td>With dead victims</td>\n",
       "    </tr>\n",
       "    <tr>\n",
       "      <th>4</th>\n",
       "      <td>sunday</td>\n",
       "      <td>09:00:00</td>\n",
       "      <td>GO</td>\n",
       "      <td>20.0</td>\n",
       "      <td>220,5</td>\n",
       "      <td>POSSE</td>\n",
       "      <td>Road's defect</td>\n",
       "      <td>Collision with fixed object</td>\n",
       "      <td>Clear sky</td>\n",
       "      <td>Day</td>\n",
       "      <td>Decreasing</td>\n",
       "      <td>Simple</td>\n",
       "      <td>1</td>\n",
       "      <td>With injured victims</td>\n",
       "    </tr>\n",
       "  </tbody>\n",
       "</table>\n",
       "</div>"
      ],
      "text/plain": [
       "  week_day      hour state  road_id     km            city  \\\n",
       "0   sunday  01:45:00    RS    116.0   34,9         VACARIA   \n",
       "1   sunday  01:00:00    PR    376.0    636  TIJUCAS DO SUL   \n",
       "2   sunday  04:40:00    BA    101.0     65      ENTRE RIOS   \n",
       "3   sunday  06:30:00    PA    316.0   72,5       CASTANHAL   \n",
       "4   sunday  09:00:00    GO     20.0  220,5           POSSE   \n",
       "\n",
       "                          cause_of_accident             type_of_accident  \\\n",
       "0         Mechanical loss/defect of vehicle           Rear-end collision   \n",
       "1                     Incompatible velocity                 Run-off-road   \n",
       "2                       Driver was sleeping            Head-on collision   \n",
       "3  Driver's lack of attention to conveyance        Side impact collision   \n",
       "4                             Road's defect  Collision with fixed object   \n",
       "\n",
       "  wheather_condition weather_timestamp road_direction road_type  \\\n",
       "0          Clear sky             Night     Decreasing    Simple   \n",
       "1            Drizzle             Night     Increasing    Double   \n",
       "2             Cloudy           Sunrise     Decreasing    Simple   \n",
       "3          Clear sky           Sunrise     Decreasing    Simple   \n",
       "4          Clear sky               Day     Decreasing    Simple   \n",
       "\n",
       "   vehicles_involved     victims_condition  \n",
       "0                  2  With injured victims  \n",
       "1                  2     With dead victims  \n",
       "2                  2     With dead victims  \n",
       "3                  3     With dead victims  \n",
       "4                  1  With injured victims  "
      ]
     },
     "execution_count": 35,
     "metadata": {},
     "output_type": "execute_result"
    }
   ],
   "source": [
    "df_train.head()"
   ]
  },
  {
   "cell_type": "code",
   "execution_count": 36,
   "metadata": {},
   "outputs": [
    {
     "name": "stdout",
     "output_type": "stream",
     "text": [
      "<class 'pandas.core.frame.DataFrame'>\n",
      "RangeIndex: 463152 entries, 0 to 463151\n",
      "Data columns (total 14 columns):\n",
      " #   Column              Non-Null Count   Dtype  \n",
      "---  ------              --------------   -----  \n",
      " 0   week_day            463152 non-null  object \n",
      " 1   hour                463152 non-null  object \n",
      " 2   state               463152 non-null  object \n",
      " 3   road_id             462162 non-null  float64\n",
      " 4   km                  462162 non-null  object \n",
      " 5   city                463152 non-null  object \n",
      " 6   cause_of_accident   463152 non-null  object \n",
      " 7   type_of_accident    463152 non-null  object \n",
      " 8   wheather_condition  463152 non-null  object \n",
      " 9   weather_timestamp   463152 non-null  object \n",
      " 10  road_direction      463152 non-null  object \n",
      " 11  road_type           463152 non-null  object \n",
      " 12  vehicles_involved   463152 non-null  int64  \n",
      " 13  victims_condition   463152 non-null  object \n",
      "dtypes: float64(1), int64(1), object(12)\n",
      "memory usage: 49.5+ MB\n"
     ]
    }
   ],
   "source": [
    "df_train.info()"
   ]
  },
  {
   "cell_type": "code",
   "execution_count": 22,
   "metadata": {},
   "outputs": [],
   "source": [
    "def series_to_map_dict(ser):\n",
    "    res_dict = {}\n",
    "\n",
    "    val_arr = ser.unique()\n",
    "    for num, val in zip(range(len(val_arr)), val_arr):\n",
    "        res_dict[val] = num\n",
    "    \n",
    "    return res_dict"
   ]
  },
  {
   "cell_type": "code",
   "execution_count": 23,
   "metadata": {},
   "outputs": [],
   "source": [
    "def string_timestamp_to_sec(inp_str):\n",
    "    inp = inp_str.split(':')\n",
    "    return int(inp[0])*3600 + int(inp[1])*60 + int(inp[2])"
   ]
  },
  {
   "cell_type": "code",
   "execution_count": 54,
   "metadata": {},
   "outputs": [
    {
     "data": {
      "text/plain": [
       "array(['34,9', '636', '65', ..., '1171', '693,6', '875,7'], dtype=object)"
      ]
     },
     "execution_count": 54,
     "metadata": {},
     "output_type": "execute_result"
    }
   ],
   "source": [
    "df_mapped['km'].replace(',', '.').unique()"
   ]
  },
  {
   "cell_type": "code",
   "execution_count": 67,
   "metadata": {},
   "outputs": [
    {
     "data": {
      "text/html": [
       "<div>\n",
       "<style scoped>\n",
       "    .dataframe tbody tr th:only-of-type {\n",
       "        vertical-align: middle;\n",
       "    }\n",
       "\n",
       "    .dataframe tbody tr th {\n",
       "        vertical-align: top;\n",
       "    }\n",
       "\n",
       "    .dataframe thead th {\n",
       "        text-align: right;\n",
       "    }\n",
       "</style>\n",
       "<table border=\"1\" class=\"dataframe\">\n",
       "  <thead>\n",
       "    <tr style=\"text-align: right;\">\n",
       "      <th></th>\n",
       "      <th>week_day</th>\n",
       "      <th>hour</th>\n",
       "      <th>state</th>\n",
       "      <th>road_id</th>\n",
       "      <th>km</th>\n",
       "      <th>city</th>\n",
       "      <th>cause_of_accident</th>\n",
       "      <th>type_of_accident</th>\n",
       "      <th>wheather_condition</th>\n",
       "      <th>weather_timestamp</th>\n",
       "      <th>road_direction</th>\n",
       "      <th>road_type</th>\n",
       "      <th>vehicles_involved</th>\n",
       "      <th>victims_condition</th>\n",
       "    </tr>\n",
       "  </thead>\n",
       "  <tbody>\n",
       "    <tr>\n",
       "      <th>0</th>\n",
       "      <td>0</td>\n",
       "      <td>6300</td>\n",
       "      <td>0</td>\n",
       "      <td>116</td>\n",
       "      <td>34.9</td>\n",
       "      <td>0</td>\n",
       "      <td>0</td>\n",
       "      <td>0</td>\n",
       "      <td>0</td>\n",
       "      <td>0</td>\n",
       "      <td>0</td>\n",
       "      <td>0</td>\n",
       "      <td>2</td>\n",
       "      <td>0</td>\n",
       "    </tr>\n",
       "    <tr>\n",
       "      <th>1</th>\n",
       "      <td>0</td>\n",
       "      <td>3600</td>\n",
       "      <td>1</td>\n",
       "      <td>376</td>\n",
       "      <td>636.0</td>\n",
       "      <td>1</td>\n",
       "      <td>1</td>\n",
       "      <td>1</td>\n",
       "      <td>0</td>\n",
       "      <td>0</td>\n",
       "      <td>1</td>\n",
       "      <td>1</td>\n",
       "      <td>2</td>\n",
       "      <td>1</td>\n",
       "    </tr>\n",
       "    <tr>\n",
       "      <th>2</th>\n",
       "      <td>0</td>\n",
       "      <td>16800</td>\n",
       "      <td>2</td>\n",
       "      <td>101</td>\n",
       "      <td>65.0</td>\n",
       "      <td>2</td>\n",
       "      <td>2</td>\n",
       "      <td>2</td>\n",
       "      <td>0</td>\n",
       "      <td>1</td>\n",
       "      <td>0</td>\n",
       "      <td>0</td>\n",
       "      <td>2</td>\n",
       "      <td>1</td>\n",
       "    </tr>\n",
       "    <tr>\n",
       "      <th>3</th>\n",
       "      <td>0</td>\n",
       "      <td>23400</td>\n",
       "      <td>3</td>\n",
       "      <td>316</td>\n",
       "      <td>72.5</td>\n",
       "      <td>3</td>\n",
       "      <td>3</td>\n",
       "      <td>3</td>\n",
       "      <td>0</td>\n",
       "      <td>1</td>\n",
       "      <td>0</td>\n",
       "      <td>0</td>\n",
       "      <td>3</td>\n",
       "      <td>1</td>\n",
       "    </tr>\n",
       "    <tr>\n",
       "      <th>4</th>\n",
       "      <td>0</td>\n",
       "      <td>32400</td>\n",
       "      <td>4</td>\n",
       "      <td>20</td>\n",
       "      <td>220.5</td>\n",
       "      <td>4</td>\n",
       "      <td>4</td>\n",
       "      <td>4</td>\n",
       "      <td>0</td>\n",
       "      <td>2</td>\n",
       "      <td>0</td>\n",
       "      <td>0</td>\n",
       "      <td>1</td>\n",
       "      <td>0</td>\n",
       "    </tr>\n",
       "  </tbody>\n",
       "</table>\n",
       "</div>"
      ],
      "text/plain": [
       "   week_day   hour  state  road_id     km  city  cause_of_accident  \\\n",
       "0         0   6300      0      116   34.9     0                  0   \n",
       "1         0   3600      1      376  636.0     1                  1   \n",
       "2         0  16800      2      101   65.0     2                  2   \n",
       "3         0  23400      3      316   72.5     3                  3   \n",
       "4         0  32400      4       20  220.5     4                  4   \n",
       "\n",
       "   type_of_accident  wheather_condition  weather_timestamp  road_direction  \\\n",
       "0                 0                   0                  0               0   \n",
       "1                 1                   0                  0               1   \n",
       "2                 2                   0                  1               0   \n",
       "3                 3                   0                  1               0   \n",
       "4                 4                   0                  2               0   \n",
       "\n",
       "   road_type  vehicles_involved  victims_condition  \n",
       "0          0                  2                  0  \n",
       "1          1                  2                  1  \n",
       "2          0                  2                  1  \n",
       "3          0                  3                  1  \n",
       "4          0                  1                  0  "
      ]
     },
     "execution_count": 67,
     "metadata": {},
     "output_type": "execute_result"
    }
   ],
   "source": [
    "df_mapped = df_train.copy()\n",
    "\n",
    "df_mapped['wheather_condition'] = df_mapped['week_day'].map({'sunday': 6, 'monday': 0, 'tuesday': 1, 'wednesday': 2, 'thursday': 3, 'friday': 4, 'saturday': 5})\n",
    "\n",
    "week_day_map = series_to_map_dict(df_mapped['week_day'])\n",
    "state_map = series_to_map_dict(df_mapped['state'])\n",
    "city_map = series_to_map_dict(df_mapped['city'])\n",
    "weather_timestamp_map = series_to_map_dict(df_mapped['weather_timestamp'])\n",
    "road_direction_map = series_to_map_dict(df_mapped['road_direction'])\n",
    "cause_of_accident_map = series_to_map_dict(df_mapped['cause_of_accident'])\n",
    "type_of_accident_map = series_to_map_dict(df_mapped['type_of_accident'])\n",
    "wheather_condition_map = series_to_map_dict(df_mapped['wheather_condition'])\n",
    "road_type_map = series_to_map_dict(df_mapped['road_type'])\n",
    "victims_condition_map = series_to_map_dict(df_mapped['victims_condition'])\n",
    "\n",
    "df_mapped['state'] = df_mapped['state'].map(state_map)\n",
    "df_mapped['city'] = df_mapped['city'].map(city_map)\n",
    "\n",
    "df_mapped['road_id'] = df_mapped['road_id'].fillna(df_mapped['road_id'].mean())\n",
    "df_mapped['road_id'] = df_mapped['road_id'].astype(int)\n",
    "\n",
    "df_mapped['km'] = df_mapped['km'].str.replace(',', '.').astype(float)\n",
    "df_mapped['km'] = df_mapped['km'].fillna(df_mapped['km'].mean())\n",
    "\n",
    "df_mapped['week_day'] = df_mapped['week_day'].map(week_day_map)\n",
    "df_mapped['road_direction'] = df_mapped['road_direction'].map(road_direction_map)\n",
    "df_mapped['weather_timestamp'] = df_mapped['weather_timestamp'].map(weather_timestamp_map)\n",
    "df_mapped['cause_of_accident'] = df_mapped['cause_of_accident'].map(cause_of_accident_map)\n",
    "df_mapped['type_of_accident'] = df_mapped['type_of_accident'].map(type_of_accident_map)\n",
    "df_mapped['wheather_condition'] = df_mapped['wheather_condition'].map(wheather_condition_map)\n",
    "df_mapped['road_type'] = df_mapped['road_type'].map(road_type_map)\n",
    "df_mapped['victims_condition'] = df_mapped['victims_condition'].map(victims_condition_map)\n",
    "\n",
    "df_mapped['hour'] = df_mapped['hour'].apply(lambda x: string_timestamp_to_sec(x))\n",
    "\n",
    "df_mapped.head()"
   ]
  },
  {
   "cell_type": "code",
   "execution_count": 68,
   "metadata": {},
   "outputs": [
    {
     "data": {
      "text/plain": [
       "week_day              0\n",
       "hour                  0\n",
       "state                 0\n",
       "road_id               0\n",
       "km                    0\n",
       "city                  0\n",
       "cause_of_accident     0\n",
       "type_of_accident      0\n",
       "wheather_condition    0\n",
       "weather_timestamp     0\n",
       "road_direction        0\n",
       "road_type             0\n",
       "vehicles_involved     0\n",
       "victims_condition     0\n",
       "dtype: int64"
      ]
     },
     "execution_count": 68,
     "metadata": {},
     "output_type": "execute_result"
    }
   ],
   "source": [
    "df_mapped.isna().sum()"
   ]
  },
  {
   "cell_type": "code",
   "execution_count": 74,
   "metadata": {},
   "outputs": [
    {
     "data": {
      "image/png": "[encoded data removed]",
      "text/plain": [
       "<Figure size 1200x1000 with 2 Axes>"
      ]
     },
     "metadata": {},
     "output_type": "display_data"
    }
   ],
   "source": [
    "plt.figure(figsize=(12,10))\n",
    "sns.heatmap(df_mapped.corr(numeric_only = True), annot=True)\n",
    "plt.show()"
   ]
  },
  {
   "cell_type": "markdown",
   "metadata": {},
   "source": [
    "### Разделение набора данных"
   ]
  },
  {
   "cell_type": "code",
   "execution_count": 70,
   "metadata": {},
   "outputs": [
    {
     "name": "stdout",
     "output_type": "stream",
     "text": [
      "X shape: (463152, 13) | y shape: (463152,) \n"
     ]
    }
   ],
   "source": [
    "X = df_mapped.drop(['victims_condition'], axis=1)\n",
    "y = df_mapped['victims_condition']\n",
    "print(f'X shape: {X.shape} | y shape: {y.shape} ')"
   ]
  },
  {
   "cell_type": "code",
   "execution_count": 71,
   "metadata": {},
   "outputs": [
    {
     "data": {
      "text/plain": [
       "TtestResult(statistic=np.float64(0.00043943752097186833), pvalue=np.float64(0.999649379787122), df=np.float64(463150.0))"
      ]
     },
     "execution_count": 71,
     "metadata": {},
     "output_type": "execute_result"
    }
   ],
   "source": [
    "import scipy.stats as stats\n",
    "\n",
    "X_train, X_test, y_train, y_test = train_test_split(X, y, test_size=0.20, shuffle=True, random_state=15, stratify=y)\n",
    "\n",
    "stats.ttest_ind(a=y_train, b=y_test)"
   ]
  },
  {
   "cell_type": "code",
   "execution_count": 72,
   "metadata": {},
   "outputs": [
    {
     "name": "stdout",
     "output_type": "stream",
     "text": [
      "LDA: 0.717287 (0.000009)\n",
      "KNN: 0.679176 (0.001198)\n",
      "CART: 0.619981 (0.001751)\n",
      "NB: 0.715633 (0.000386)\n"
     ]
    }
   ],
   "source": [
    "models = []\n",
    "#models.append(('LR', LogisticRegression(solver='lbfgs', max_iter=40000)))\n",
    "models.append(('LDA', LinearDiscriminantAnalysis()))\n",
    "models.append(('KNN', KNeighborsClassifier()))\n",
    "models.append(('CART', DecisionTreeClassifier()))\n",
    "models.append(('NB', GaussianNB()))\n",
    "#models.append(('SVC', SVC(gamma='auto')))\n",
    "\n",
    "# оцениваем их метрики\n",
    "results = []\n",
    "model_names = []\n",
    "for name, model in models:\n",
    "  kfold = StratifiedKFold(n_splits=10, random_state=1, shuffle=True)\n",
    "  cv_results = cross_val_score(model, X_train, y_train, cv=kfold, scoring='accuracy')\n",
    "  # print(cv_results)\n",
    "  results.append(cv_results)\n",
    "  model_names.append(name)\n",
    "  print('%s: %f (%f)' % (name, cv_results.mean(), cv_results.std()))"
   ]
  },
  {
   "cell_type": "markdown",
   "metadata": {},
   "source": [
    "NB и LDA"
   ]
  },
  {
   "cell_type": "code",
   "execution_count": 73,
   "metadata": {},
   "outputs": [
    {
     "ename": "LinAlgError",
     "evalue": "The leading minor of order 9 of B is not positive definite. The factorization of B could not be completed and no eigenvalues or eigenvectors were computed.",
     "output_type": "error",
     "traceback": [
      "\u001b[1;31m---------------------------------------------------------------------------\u001b[0m",
      "\u001b[1;31mLinAlgError\u001b[0m                               Traceback (most recent call last)",
      "Cell \u001b[1;32mIn[73], line 2\u001b[0m\n\u001b[0;32m      1\u001b[0m sk_lda \u001b[38;5;241m=\u001b[39m LinearDiscriminantAnalysis(solver\u001b[38;5;241m=\u001b[39m\u001b[38;5;124m'\u001b[39m\u001b[38;5;124meigen\u001b[39m\u001b[38;5;124m'\u001b[39m)\n\u001b[1;32m----> 2\u001b[0m \u001b[43msk_lda\u001b[49m\u001b[38;5;241;43m.\u001b[39;49m\u001b[43mfit\u001b[49m\u001b[43m(\u001b[49m\u001b[43mX_train\u001b[49m\u001b[43m,\u001b[49m\u001b[43m \u001b[49m\u001b[43my_train\u001b[49m\u001b[43m)\u001b[49m\n\u001b[0;32m      3\u001b[0m sk_lda_pred_res \u001b[38;5;241m=\u001b[39m sk_lda\u001b[38;5;241m.\u001b[39mpredict(X_test)\n\u001b[0;32m      4\u001b[0m sk_transformed \u001b[38;5;241m=\u001b[39m sk_lda\u001b[38;5;241m.\u001b[39mtransform(X_train)\n",
      "File \u001b[1;32mc:\\Users\\pme\\AppData\\Local\\Programs\\Python\\Python313\\Lib\\site-packages\\sklearn\\base.py:1473\u001b[0m, in \u001b[0;36m_fit_context.<locals>.decorator.<locals>.wrapper\u001b[1;34m(estimator, *args, **kwargs)\u001b[0m\n\u001b[0;32m   1466\u001b[0m     estimator\u001b[38;5;241m.\u001b[39m_validate_params()\n\u001b[0;32m   1468\u001b[0m \u001b[38;5;28;01mwith\u001b[39;00m config_context(\n\u001b[0;32m   1469\u001b[0m     skip_parameter_validation\u001b[38;5;241m=\u001b[39m(\n\u001b[0;32m   1470\u001b[0m         prefer_skip_nested_validation \u001b[38;5;129;01mor\u001b[39;00m global_skip_validation\n\u001b[0;32m   1471\u001b[0m     )\n\u001b[0;32m   1472\u001b[0m ):\n\u001b[1;32m-> 1473\u001b[0m     \u001b[38;5;28;01mreturn\u001b[39;00m \u001b[43mfit_method\u001b[49m\u001b[43m(\u001b[49m\u001b[43mestimator\u001b[49m\u001b[43m,\u001b[49m\u001b[43m \u001b[49m\u001b[38;5;241;43m*\u001b[39;49m\u001b[43margs\u001b[49m\u001b[43m,\u001b[49m\u001b[43m \u001b[49m\u001b[38;5;241;43m*\u001b[39;49m\u001b[38;5;241;43m*\u001b[39;49m\u001b[43mkwargs\u001b[49m\u001b[43m)\u001b[49m\n",
      "File \u001b[1;32mc:\\Users\\pme\\AppData\\Local\\Programs\\Python\\Python313\\Lib\\site-packages\\sklearn\\discriminant_analysis.py:645\u001b[0m, in \u001b[0;36mLinearDiscriminantAnalysis.fit\u001b[1;34m(self, X, y)\u001b[0m\n\u001b[0;32m    638\u001b[0m     \u001b[38;5;28mself\u001b[39m\u001b[38;5;241m.\u001b[39m_solve_lstsq(\n\u001b[0;32m    639\u001b[0m         X,\n\u001b[0;32m    640\u001b[0m         y,\n\u001b[0;32m    641\u001b[0m         shrinkage\u001b[38;5;241m=\u001b[39m\u001b[38;5;28mself\u001b[39m\u001b[38;5;241m.\u001b[39mshrinkage,\n\u001b[0;32m    642\u001b[0m         covariance_estimator\u001b[38;5;241m=\u001b[39m\u001b[38;5;28mself\u001b[39m\u001b[38;5;241m.\u001b[39mcovariance_estimator,\n\u001b[0;32m    643\u001b[0m     )\n\u001b[0;32m    644\u001b[0m \u001b[38;5;28;01melif\u001b[39;00m \u001b[38;5;28mself\u001b[39m\u001b[38;5;241m.\u001b[39msolver \u001b[38;5;241m==\u001b[39m \u001b[38;5;124m\"\u001b[39m\u001b[38;5;124meigen\u001b[39m\u001b[38;5;124m\"\u001b[39m:\n\u001b[1;32m--> 645\u001b[0m     \u001b[38;5;28;43mself\u001b[39;49m\u001b[38;5;241;43m.\u001b[39;49m\u001b[43m_solve_eigen\u001b[49m\u001b[43m(\u001b[49m\n\u001b[0;32m    646\u001b[0m \u001b[43m        \u001b[49m\u001b[43mX\u001b[49m\u001b[43m,\u001b[49m\n\u001b[0;32m    647\u001b[0m \u001b[43m        \u001b[49m\u001b[43my\u001b[49m\u001b[43m,\u001b[49m\n\u001b[0;32m    648\u001b[0m \u001b[43m        \u001b[49m\u001b[43mshrinkage\u001b[49m\u001b[38;5;241;43m=\u001b[39;49m\u001b[38;5;28;43mself\u001b[39;49m\u001b[38;5;241;43m.\u001b[39;49m\u001b[43mshrinkage\u001b[49m\u001b[43m,\u001b[49m\n\u001b[0;32m    649\u001b[0m \u001b[43m        \u001b[49m\u001b[43mcovariance_estimator\u001b[49m\u001b[38;5;241;43m=\u001b[39;49m\u001b[38;5;28;43mself\u001b[39;49m\u001b[38;5;241;43m.\u001b[39;49m\u001b[43mcovariance_estimator\u001b[49m\u001b[43m,\u001b[49m\n\u001b[0;32m    650\u001b[0m \u001b[43m    \u001b[49m\u001b[43m)\u001b[49m\n\u001b[0;32m    651\u001b[0m \u001b[38;5;28;01mif\u001b[39;00m size(\u001b[38;5;28mself\u001b[39m\u001b[38;5;241m.\u001b[39mclasses_) \u001b[38;5;241m==\u001b[39m \u001b[38;5;241m2\u001b[39m:  \u001b[38;5;66;03m# treat binary case as a special case\u001b[39;00m\n\u001b[0;32m    652\u001b[0m     coef_ \u001b[38;5;241m=\u001b[39m xp\u001b[38;5;241m.\u001b[39masarray(\u001b[38;5;28mself\u001b[39m\u001b[38;5;241m.\u001b[39mcoef_[\u001b[38;5;241m1\u001b[39m, :] \u001b[38;5;241m-\u001b[39m \u001b[38;5;28mself\u001b[39m\u001b[38;5;241m.\u001b[39mcoef_[\u001b[38;5;241m0\u001b[39m, :], dtype\u001b[38;5;241m=\u001b[39mX\u001b[38;5;241m.\u001b[39mdtype)\n",
      "File \u001b[1;32mc:\\Users\\pme\\AppData\\Local\\Programs\\Python\\Python313\\Lib\\site-packages\\sklearn\\discriminant_analysis.py:475\u001b[0m, in \u001b[0;36mLinearDiscriminantAnalysis._solve_eigen\u001b[1;34m(self, X, y, shrinkage, covariance_estimator)\u001b[0m\n\u001b[0;32m    472\u001b[0m St \u001b[38;5;241m=\u001b[39m _cov(X, shrinkage, covariance_estimator)  \u001b[38;5;66;03m# total scatter\u001b[39;00m\n\u001b[0;32m    473\u001b[0m Sb \u001b[38;5;241m=\u001b[39m St \u001b[38;5;241m-\u001b[39m Sw  \u001b[38;5;66;03m# between scatter\u001b[39;00m\n\u001b[1;32m--> 475\u001b[0m evals, evecs \u001b[38;5;241m=\u001b[39m \u001b[43mlinalg\u001b[49m\u001b[38;5;241;43m.\u001b[39;49m\u001b[43meigh\u001b[49m\u001b[43m(\u001b[49m\u001b[43mSb\u001b[49m\u001b[43m,\u001b[49m\u001b[43m \u001b[49m\u001b[43mSw\u001b[49m\u001b[43m)\u001b[49m\n\u001b[0;32m    476\u001b[0m \u001b[38;5;28mself\u001b[39m\u001b[38;5;241m.\u001b[39mexplained_variance_ratio_ \u001b[38;5;241m=\u001b[39m np\u001b[38;5;241m.\u001b[39msort(evals \u001b[38;5;241m/\u001b[39m np\u001b[38;5;241m.\u001b[39msum(evals))[::\u001b[38;5;241m-\u001b[39m\u001b[38;5;241m1\u001b[39m][\n\u001b[0;32m    477\u001b[0m     : \u001b[38;5;28mself\u001b[39m\u001b[38;5;241m.\u001b[39m_max_components\n\u001b[0;32m    478\u001b[0m ]\n\u001b[0;32m    479\u001b[0m evecs \u001b[38;5;241m=\u001b[39m evecs[:, np\u001b[38;5;241m.\u001b[39margsort(evals)[::\u001b[38;5;241m-\u001b[39m\u001b[38;5;241m1\u001b[39m]]  \u001b[38;5;66;03m# sort eigenvectors\u001b[39;00m\n",
      "File \u001b[1;32mc:\\Users\\pme\\AppData\\Local\\Programs\\Python\\Python313\\Lib\\site-packages\\scipy\\linalg\\_decomp.py:592\u001b[0m, in \u001b[0;36meigh\u001b[1;34m(a, b, lower, eigvals_only, overwrite_a, overwrite_b, type, check_finite, subset_by_index, subset_by_value, driver)\u001b[0m\n\u001b[0;32m    589\u001b[0m     \u001b[38;5;28;01mraise\u001b[39;00m LinAlgError(\u001b[38;5;124mf\u001b[39m\u001b[38;5;124m'\u001b[39m\u001b[38;5;124mIllegal value in argument \u001b[39m\u001b[38;5;132;01m{\u001b[39;00m\u001b[38;5;241m-\u001b[39minfo\u001b[38;5;132;01m}\u001b[39;00m\u001b[38;5;124m of internal \u001b[39m\u001b[38;5;124m'\u001b[39m\n\u001b[0;32m    590\u001b[0m                       \u001b[38;5;124mf\u001b[39m\u001b[38;5;124m'\u001b[39m\u001b[38;5;132;01m{\u001b[39;00mdrv\u001b[38;5;241m.\u001b[39mtypecode\u001b[38;5;250m \u001b[39m\u001b[38;5;241m+\u001b[39m\u001b[38;5;250m \u001b[39mpfx\u001b[38;5;250m \u001b[39m\u001b[38;5;241m+\u001b[39m\u001b[38;5;250m \u001b[39mdriver\u001b[38;5;132;01m}\u001b[39;00m\u001b[38;5;124m'\u001b[39m)\n\u001b[0;32m    591\u001b[0m \u001b[38;5;28;01melif\u001b[39;00m info \u001b[38;5;241m>\u001b[39m n:\n\u001b[1;32m--> 592\u001b[0m     \u001b[38;5;28;01mraise\u001b[39;00m LinAlgError(\u001b[38;5;124mf\u001b[39m\u001b[38;5;124m'\u001b[39m\u001b[38;5;124mThe leading minor of order \u001b[39m\u001b[38;5;132;01m{\u001b[39;00minfo\u001b[38;5;241m-\u001b[39mn\u001b[38;5;132;01m}\u001b[39;00m\u001b[38;5;124m of B is not \u001b[39m\u001b[38;5;124m'\u001b[39m\n\u001b[0;32m    593\u001b[0m                       \u001b[38;5;124m'\u001b[39m\u001b[38;5;124mpositive definite. The factorization of B \u001b[39m\u001b[38;5;124m'\u001b[39m\n\u001b[0;32m    594\u001b[0m                       \u001b[38;5;124m'\u001b[39m\u001b[38;5;124mcould not be completed and no eigenvalues \u001b[39m\u001b[38;5;124m'\u001b[39m\n\u001b[0;32m    595\u001b[0m                       \u001b[38;5;124m'\u001b[39m\u001b[38;5;124mor eigenvectors were computed.\u001b[39m\u001b[38;5;124m'\u001b[39m)\n\u001b[0;32m    596\u001b[0m \u001b[38;5;28;01melse\u001b[39;00m:\n\u001b[0;32m    597\u001b[0m     drv_err \u001b[38;5;241m=\u001b[39m {\u001b[38;5;124m'\u001b[39m\u001b[38;5;124mev\u001b[39m\u001b[38;5;124m'\u001b[39m: \u001b[38;5;124m'\u001b[39m\u001b[38;5;124mThe algorithm failed to converge; \u001b[39m\u001b[38;5;132;01m{}\u001b[39;00m\u001b[38;5;124m \u001b[39m\u001b[38;5;124m'\u001b[39m\n\u001b[0;32m    598\u001b[0m                      \u001b[38;5;124m'\u001b[39m\u001b[38;5;124moff-diagonal elements of an intermediate \u001b[39m\u001b[38;5;124m'\u001b[39m\n\u001b[0;32m    599\u001b[0m                      \u001b[38;5;124m'\u001b[39m\u001b[38;5;124mtridiagonal form did not converge to zero.\u001b[39m\u001b[38;5;124m'\u001b[39m,\n\u001b[1;32m   (...)\u001b[0m\n\u001b[0;32m    604\u001b[0m                \u001b[38;5;124m'\u001b[39m\u001b[38;5;124mevr\u001b[39m\u001b[38;5;124m'\u001b[39m: \u001b[38;5;124m'\u001b[39m\u001b[38;5;124mInternal Error.\u001b[39m\u001b[38;5;124m'\u001b[39m\n\u001b[0;32m    605\u001b[0m                }\n",
      "\u001b[1;31mLinAlgError\u001b[0m: The leading minor of order 9 of B is not positive definite. The factorization of B could not be completed and no eigenvalues or eigenvectors were computed."
     ]
    }
   ],
   "source": [
    "sk_lda = LinearDiscriminantAnalysis(solver='eigen')\n",
    "sk_lda.fit(X_train, y_train)\n",
    "sk_lda_pred_res = sk_lda.predict(X_test)\n",
    "sk_transformed = sk_lda.transform(X_train)\n",
    "sk_lda_accuracy = accuracy_score(y_test, sk_lda_pred_res)\n",
    "\n",
    "print(f'sk LDA accuracy: {sk_lda_accuracy}')\n",
    "print(f'sk LDA prediction: {sk_lda_pred_res}')\n",
    "print('sk transformed features', sk_transformed[:5].T, sep='\\n')"
   ]
  },
  {
   "cell_type": "code",
   "execution_count": null,
   "metadata": {},
   "outputs": [
    {
     "data": {
      "text/plain": [
       "92631"
      ]
     },
     "execution_count": 32,
     "metadata": {},
     "output_type": "execute_result"
    }
   ],
   "source": [
    "len(sk_lda_pred_res)"
   ]
  },
  {
   "cell_type": "code",
   "execution_count": null,
   "metadata": {},
   "outputs": [
    {
     "data": {
      "text/plain": [
       "{np.int64(0): np.int64(92630), np.int64(1): np.int64(1)}"
      ]
     },
     "execution_count": 45,
     "metadata": {},
     "output_type": "execute_result"
    }
   ],
   "source": [
    "unique, counts = np.unique(sk_lda_pred_res, return_counts=True)\n",
    "dict(zip(unique, counts))"
   ]
  },
  {
   "cell_type": "code",
   "execution_count": null,
   "metadata": {},
   "outputs": [
    {
     "data": {
      "text/plain": [
       "{np.int64(0): np.int64(66443),\n",
       " np.int64(1): np.int64(6269),\n",
       " np.int64(2): np.int64(19919)}"
      ]
     },
     "execution_count": 49,
     "metadata": {},
     "output_type": "execute_result"
    }
   ],
   "source": [
    "unique, counts = np.unique(y_test, return_counts=True)\n",
    "dict(zip(unique, counts))"
   ]
  }
 ],
 "metadata": {
  "kernelspec": {
   "display_name": "Python 3",
   "language": "python",
   "name": "python3"
  },
  "language_info": {
   "codemirror_mode": {
    "name": "ipython",
    "version": 3
   },
   "file_extension": ".py",
   "mimetype": "text/x-python",
   "name": "python",
   "nbconvert_exporter": "python",
   "pygments_lexer": "ipython3",
   "version": "3.13.0"
  }
 },
 "nbformat": 4,
 "nbformat_minor": 2
}
