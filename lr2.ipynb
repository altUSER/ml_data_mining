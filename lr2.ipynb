{
 "cells": [
  {
   "cell_type": "markdown",
   "metadata": {},
   "source": [
    "### Лабораторная работа №2\n",
    "#### Классификация"
   ]
  },
  {
   "cell_type": "markdown",
   "metadata": {},
   "source": [
    "Датасет **Car Accidents in Brazil (2017-2023)** https://www.kaggle.com/datasets/mlippo/car-accidents-in-brazil-2017-2023"
   ]
  },
  {
   "cell_type": "code",
   "execution_count": 1,
   "metadata": {},
   "outputs": [],
   "source": [
    "import numpy as np\n",
    "import pandas as pd\n",
    "import seaborn as sns\n",
    "sns.set_palette('husl')\n",
    "import matplotlib.pyplot as plt\n",
    "%matplotlib inline\n",
    "from sklearn.model_selection import train_test_split\n",
    "from sklearn.model_selection import cross_val_score\n",
    "from sklearn.model_selection import StratifiedKFold\n",
    "from sklearn.metrics import classification_report\n",
    "from sklearn.metrics import accuracy_score\n",
    "from sklearn.linear_model import LogisticRegression\n",
    "from sklearn.tree import DecisionTreeClassifier\n",
    "from sklearn.neighbors import KNeighborsClassifier\n",
    "from sklearn.discriminant_analysis import LinearDiscriminantAnalysis\n",
    "from sklearn.naive_bayes import GaussianNB\n",
    "from sklearn.svm import SVC"
   ]
  },
  {
   "cell_type": "code",
   "execution_count": 2,
   "metadata": {},
   "outputs": [],
   "source": [
    "df_orig = pd.read_csv(\"datasets/accidents_2017_to_2023_english.csv\")"
   ]
  },
  {
   "cell_type": "code",
   "execution_count": 3,
   "metadata": {},
   "outputs": [
    {
     "data": {
      "text/html": [
       "<div>\n",
       "<style scoped>\n",
       "    .dataframe tbody tr th:only-of-type {\n",
       "        vertical-align: middle;\n",
       "    }\n",
       "\n",
       "    .dataframe tbody tr th {\n",
       "        vertical-align: top;\n",
       "    }\n",
       "\n",
       "    .dataframe thead th {\n",
       "        text-align: right;\n",
       "    }\n",
       "</style>\n",
       "<table border=\"1\" class=\"dataframe\">\n",
       "  <thead>\n",
       "    <tr style=\"text-align: right;\">\n",
       "      <th></th>\n",
       "      <th>road_id</th>\n",
       "      <th>people</th>\n",
       "      <th>deaths</th>\n",
       "      <th>slightly_injured</th>\n",
       "      <th>severely_injured</th>\n",
       "      <th>uninjured</th>\n",
       "      <th>ignored</th>\n",
       "      <th>total_injured</th>\n",
       "      <th>vehicles_involved</th>\n",
       "      <th>latitude</th>\n",
       "      <th>longitude</th>\n",
       "    </tr>\n",
       "  </thead>\n",
       "  <tbody>\n",
       "    <tr>\n",
       "      <th>count</th>\n",
       "      <td>462162.000000</td>\n",
       "      <td>463152.000000</td>\n",
       "      <td>463152.000000</td>\n",
       "      <td>463152.000000</td>\n",
       "      <td>463152.000000</td>\n",
       "      <td>463152.000000</td>\n",
       "      <td>463152.000000</td>\n",
       "      <td>463152.000000</td>\n",
       "      <td>463152.000000</td>\n",
       "      <td>4.631520e+05</td>\n",
       "      <td>4.631520e+05</td>\n",
       "    </tr>\n",
       "    <tr>\n",
       "      <th>mean</th>\n",
       "      <td>213.432900</td>\n",
       "      <td>2.362373</td>\n",
       "      <td>0.079235</td>\n",
       "      <td>0.835469</td>\n",
       "      <td>0.259530</td>\n",
       "      <td>1.044070</td>\n",
       "      <td>0.144069</td>\n",
       "      <td>1.094999</td>\n",
       "      <td>1.645725</td>\n",
       "      <td>-2.343287e+03</td>\n",
       "      <td>-8.924977e+03</td>\n",
       "    </tr>\n",
       "    <tr>\n",
       "      <th>std</th>\n",
       "      <td>130.757607</td>\n",
       "      <td>1.924801</td>\n",
       "      <td>0.332169</td>\n",
       "      <td>1.075275</td>\n",
       "      <td>0.602814</td>\n",
       "      <td>1.502419</td>\n",
       "      <td>0.438168</td>\n",
       "      <td>1.205351</td>\n",
       "      <td>0.731394</td>\n",
       "      <td>1.519113e+06</td>\n",
       "      <td>5.903043e+06</td>\n",
       "    </tr>\n",
       "    <tr>\n",
       "      <th>min</th>\n",
       "      <td>10.000000</td>\n",
       "      <td>1.000000</td>\n",
       "      <td>0.000000</td>\n",
       "      <td>0.000000</td>\n",
       "      <td>0.000000</td>\n",
       "      <td>0.000000</td>\n",
       "      <td>0.000000</td>\n",
       "      <td>0.000000</td>\n",
       "      <td>1.000000</td>\n",
       "      <td>-1.033383e+09</td>\n",
       "      <td>-4.016764e+09</td>\n",
       "    </tr>\n",
       "    <tr>\n",
       "      <th>25%</th>\n",
       "      <td>101.000000</td>\n",
       "      <td>1.000000</td>\n",
       "      <td>0.000000</td>\n",
       "      <td>0.000000</td>\n",
       "      <td>0.000000</td>\n",
       "      <td>0.000000</td>\n",
       "      <td>0.000000</td>\n",
       "      <td>0.000000</td>\n",
       "      <td>1.000000</td>\n",
       "      <td>-2.533123e+01</td>\n",
       "      <td>-5.030294e+01</td>\n",
       "    </tr>\n",
       "    <tr>\n",
       "      <th>50%</th>\n",
       "      <td>163.000000</td>\n",
       "      <td>2.000000</td>\n",
       "      <td>0.000000</td>\n",
       "      <td>1.000000</td>\n",
       "      <td>0.000000</td>\n",
       "      <td>1.000000</td>\n",
       "      <td>0.000000</td>\n",
       "      <td>1.000000</td>\n",
       "      <td>2.000000</td>\n",
       "      <td>-2.042034e+01</td>\n",
       "      <td>-4.780831e+01</td>\n",
       "    </tr>\n",
       "    <tr>\n",
       "      <th>75%</th>\n",
       "      <td>324.000000</td>\n",
       "      <td>3.000000</td>\n",
       "      <td>0.000000</td>\n",
       "      <td>1.000000</td>\n",
       "      <td>0.000000</td>\n",
       "      <td>1.000000</td>\n",
       "      <td>0.000000</td>\n",
       "      <td>1.000000</td>\n",
       "      <td>2.000000</td>\n",
       "      <td>-1.282657e+01</td>\n",
       "      <td>-4.264249e+01</td>\n",
       "    </tr>\n",
       "    <tr>\n",
       "      <th>max</th>\n",
       "      <td>498.000000</td>\n",
       "      <td>80.000000</td>\n",
       "      <td>21.000000</td>\n",
       "      <td>61.000000</td>\n",
       "      <td>31.000000</td>\n",
       "      <td>73.000000</td>\n",
       "      <td>54.000000</td>\n",
       "      <td>66.000000</td>\n",
       "      <td>23.000000</td>\n",
       "      <td>1.630000e+02</td>\n",
       "      <td>7.170000e+02</td>\n",
       "    </tr>\n",
       "  </tbody>\n",
       "</table>\n",
       "</div>"
      ],
      "text/plain": [
       "             road_id         people         deaths  slightly_injured  \\\n",
       "count  462162.000000  463152.000000  463152.000000     463152.000000   \n",
       "mean      213.432900       2.362373       0.079235          0.835469   \n",
       "std       130.757607       1.924801       0.332169          1.075275   \n",
       "min        10.000000       1.000000       0.000000          0.000000   \n",
       "25%       101.000000       1.000000       0.000000          0.000000   \n",
       "50%       163.000000       2.000000       0.000000          1.000000   \n",
       "75%       324.000000       3.000000       0.000000          1.000000   \n",
       "max       498.000000      80.000000      21.000000         61.000000   \n",
       "\n",
       "       severely_injured      uninjured        ignored  total_injured  \\\n",
       "count     463152.000000  463152.000000  463152.000000  463152.000000   \n",
       "mean           0.259530       1.044070       0.144069       1.094999   \n",
       "std            0.602814       1.502419       0.438168       1.205351   \n",
       "min            0.000000       0.000000       0.000000       0.000000   \n",
       "25%            0.000000       0.000000       0.000000       0.000000   \n",
       "50%            0.000000       1.000000       0.000000       1.000000   \n",
       "75%            0.000000       1.000000       0.000000       1.000000   \n",
       "max           31.000000      73.000000      54.000000      66.000000   \n",
       "\n",
       "       vehicles_involved      latitude     longitude  \n",
       "count      463152.000000  4.631520e+05  4.631520e+05  \n",
       "mean            1.645725 -2.343287e+03 -8.924977e+03  \n",
       "std             0.731394  1.519113e+06  5.903043e+06  \n",
       "min             1.000000 -1.033383e+09 -4.016764e+09  \n",
       "25%             1.000000 -2.533123e+01 -5.030294e+01  \n",
       "50%             2.000000 -2.042034e+01 -4.780831e+01  \n",
       "75%             2.000000 -1.282657e+01 -4.264249e+01  \n",
       "max            23.000000  1.630000e+02  7.170000e+02  "
      ]
     },
     "execution_count": 3,
     "metadata": {},
     "output_type": "execute_result"
    }
   ],
   "source": [
    "df_orig.describe()"
   ]
  },
  {
   "cell_type": "code",
   "execution_count": 4,
   "metadata": {},
   "outputs": [
    {
     "data": {
      "text/html": [
       "<div>\n",
       "<style scoped>\n",
       "    .dataframe tbody tr th:only-of-type {\n",
       "        vertical-align: middle;\n",
       "    }\n",
       "\n",
       "    .dataframe tbody tr th {\n",
       "        vertical-align: top;\n",
       "    }\n",
       "\n",
       "    .dataframe thead th {\n",
       "        text-align: right;\n",
       "    }\n",
       "</style>\n",
       "<table border=\"1\" class=\"dataframe\">\n",
       "  <thead>\n",
       "    <tr style=\"text-align: right;\">\n",
       "      <th></th>\n",
       "      <th>inverse_data</th>\n",
       "      <th>week_day</th>\n",
       "      <th>hour</th>\n",
       "      <th>state</th>\n",
       "      <th>road_id</th>\n",
       "      <th>km</th>\n",
       "      <th>city</th>\n",
       "      <th>cause_of_accident</th>\n",
       "      <th>type_of_accident</th>\n",
       "      <th>victims_condition</th>\n",
       "      <th>...</th>\n",
       "      <th>slightly_injured</th>\n",
       "      <th>severely_injured</th>\n",
       "      <th>uninjured</th>\n",
       "      <th>ignored</th>\n",
       "      <th>total_injured</th>\n",
       "      <th>vehicles_involved</th>\n",
       "      <th>latitude</th>\n",
       "      <th>longitude</th>\n",
       "      <th>regional</th>\n",
       "      <th>police_station</th>\n",
       "    </tr>\n",
       "  </thead>\n",
       "  <tbody>\n",
       "    <tr>\n",
       "      <th>0</th>\n",
       "      <td>2017-01-01</td>\n",
       "      <td>sunday</td>\n",
       "      <td>01:45:00</td>\n",
       "      <td>RS</td>\n",
       "      <td>116.0</td>\n",
       "      <td>34,9</td>\n",
       "      <td>VACARIA</td>\n",
       "      <td>Mechanical loss/defect of vehicle</td>\n",
       "      <td>Rear-end collision</td>\n",
       "      <td>With injured victims</td>\n",
       "      <td>...</td>\n",
       "      <td>4</td>\n",
       "      <td>0</td>\n",
       "      <td>2</td>\n",
       "      <td>0</td>\n",
       "      <td>4</td>\n",
       "      <td>2</td>\n",
       "      <td>-28.50712</td>\n",
       "      <td>-50.94118</td>\n",
       "      <td>SPRF-RS</td>\n",
       "      <td>DEL05-RS</td>\n",
       "    </tr>\n",
       "    <tr>\n",
       "      <th>1</th>\n",
       "      <td>2017-01-01</td>\n",
       "      <td>sunday</td>\n",
       "      <td>01:00:00</td>\n",
       "      <td>PR</td>\n",
       "      <td>376.0</td>\n",
       "      <td>636</td>\n",
       "      <td>TIJUCAS DO SUL</td>\n",
       "      <td>Incompatible velocity</td>\n",
       "      <td>Run-off-road</td>\n",
       "      <td>With dead victims</td>\n",
       "      <td>...</td>\n",
       "      <td>0</td>\n",
       "      <td>0</td>\n",
       "      <td>1</td>\n",
       "      <td>0</td>\n",
       "      <td>0</td>\n",
       "      <td>2</td>\n",
       "      <td>-25.75400</td>\n",
       "      <td>-49.12660</td>\n",
       "      <td>SPRF-PR</td>\n",
       "      <td>DEL01-PR</td>\n",
       "    </tr>\n",
       "    <tr>\n",
       "      <th>2</th>\n",
       "      <td>2017-01-01</td>\n",
       "      <td>sunday</td>\n",
       "      <td>04:40:00</td>\n",
       "      <td>BA</td>\n",
       "      <td>101.0</td>\n",
       "      <td>65</td>\n",
       "      <td>ENTRE RIOS</td>\n",
       "      <td>Driver was sleeping</td>\n",
       "      <td>Head-on collision</td>\n",
       "      <td>With dead victims</td>\n",
       "      <td>...</td>\n",
       "      <td>1</td>\n",
       "      <td>1</td>\n",
       "      <td>2</td>\n",
       "      <td>0</td>\n",
       "      <td>2</td>\n",
       "      <td>2</td>\n",
       "      <td>-11.96180</td>\n",
       "      <td>-38.09530</td>\n",
       "      <td>SPRF-BA</td>\n",
       "      <td>DEL01-BA</td>\n",
       "    </tr>\n",
       "    <tr>\n",
       "      <th>3</th>\n",
       "      <td>2017-01-01</td>\n",
       "      <td>sunday</td>\n",
       "      <td>06:30:00</td>\n",
       "      <td>PA</td>\n",
       "      <td>316.0</td>\n",
       "      <td>72,5</td>\n",
       "      <td>CASTANHAL</td>\n",
       "      <td>Driver's lack of attention to conveyance</td>\n",
       "      <td>Side impact collision</td>\n",
       "      <td>With dead victims</td>\n",
       "      <td>...</td>\n",
       "      <td>0</td>\n",
       "      <td>0</td>\n",
       "      <td>3</td>\n",
       "      <td>0</td>\n",
       "      <td>0</td>\n",
       "      <td>3</td>\n",
       "      <td>-1.28998</td>\n",
       "      <td>-47.83483</td>\n",
       "      <td>SPRF-PA</td>\n",
       "      <td>DEL01-PA</td>\n",
       "    </tr>\n",
       "    <tr>\n",
       "      <th>4</th>\n",
       "      <td>2017-01-01</td>\n",
       "      <td>sunday</td>\n",
       "      <td>09:00:00</td>\n",
       "      <td>GO</td>\n",
       "      <td>20.0</td>\n",
       "      <td>220,5</td>\n",
       "      <td>POSSE</td>\n",
       "      <td>Road's defect</td>\n",
       "      <td>Collision with fixed object</td>\n",
       "      <td>With injured victims</td>\n",
       "      <td>...</td>\n",
       "      <td>2</td>\n",
       "      <td>1</td>\n",
       "      <td>0</td>\n",
       "      <td>0</td>\n",
       "      <td>3</td>\n",
       "      <td>1</td>\n",
       "      <td>-14.14221</td>\n",
       "      <td>-46.32259</td>\n",
       "      <td>SPRF-DF</td>\n",
       "      <td>DEL02-DF</td>\n",
       "    </tr>\n",
       "    <tr>\n",
       "      <th>5</th>\n",
       "      <td>2017-01-01</td>\n",
       "      <td>sunday</td>\n",
       "      <td>07:40:00</td>\n",
       "      <td>RN</td>\n",
       "      <td>405.0</td>\n",
       "      <td>30</td>\n",
       "      <td>MOSSORO</td>\n",
       "      <td>Alcohol consumption</td>\n",
       "      <td>Head-on collision</td>\n",
       "      <td>With dead victims</td>\n",
       "      <td>...</td>\n",
       "      <td>0</td>\n",
       "      <td>0</td>\n",
       "      <td>1</td>\n",
       "      <td>0</td>\n",
       "      <td>0</td>\n",
       "      <td>2</td>\n",
       "      <td>-5.31360</td>\n",
       "      <td>-37.56900</td>\n",
       "      <td>SPRF-RN</td>\n",
       "      <td>DEL04-RN</td>\n",
       "    </tr>\n",
       "    <tr>\n",
       "      <th>6</th>\n",
       "      <td>2017-01-01</td>\n",
       "      <td>sunday</td>\n",
       "      <td>10:35:00</td>\n",
       "      <td>PR</td>\n",
       "      <td>376.0</td>\n",
       "      <td>249,5</td>\n",
       "      <td>APUCARANA</td>\n",
       "      <td>Disrespect of safe distance from the next car</td>\n",
       "      <td>Rear-end collision</td>\n",
       "      <td>With injured victims</td>\n",
       "      <td>...</td>\n",
       "      <td>1</td>\n",
       "      <td>0</td>\n",
       "      <td>4</td>\n",
       "      <td>0</td>\n",
       "      <td>1</td>\n",
       "      <td>2</td>\n",
       "      <td>-23.61074</td>\n",
       "      <td>-51.39895</td>\n",
       "      <td>SPRF-PR</td>\n",
       "      <td>DEL07-PR</td>\n",
       "    </tr>\n",
       "    <tr>\n",
       "      <th>7</th>\n",
       "      <td>2017-01-01</td>\n",
       "      <td>sunday</td>\n",
       "      <td>11:50:00</td>\n",
       "      <td>MG</td>\n",
       "      <td>262.0</td>\n",
       "      <td>483,1</td>\n",
       "      <td>BOM DESPACHO</td>\n",
       "      <td>Driver was sleeping</td>\n",
       "      <td>Side impact collision</td>\n",
       "      <td>Without victims</td>\n",
       "      <td>...</td>\n",
       "      <td>0</td>\n",
       "      <td>0</td>\n",
       "      <td>2</td>\n",
       "      <td>0</td>\n",
       "      <td>0</td>\n",
       "      <td>2</td>\n",
       "      <td>-19.78562</td>\n",
       "      <td>-45.30956</td>\n",
       "      <td>SPRF-MG</td>\n",
       "      <td>DEL08-MG</td>\n",
       "    </tr>\n",
       "    <tr>\n",
       "      <th>8</th>\n",
       "      <td>2017-01-01</td>\n",
       "      <td>sunday</td>\n",
       "      <td>10:30:00</td>\n",
       "      <td>MT</td>\n",
       "      <td>364.0</td>\n",
       "      <td>469</td>\n",
       "      <td>VARZEA GRANDE</td>\n",
       "      <td>Mechanical loss/defect of vehicle</td>\n",
       "      <td>Overturn</td>\n",
       "      <td>With injured victims</td>\n",
       "      <td>...</td>\n",
       "      <td>3</td>\n",
       "      <td>0</td>\n",
       "      <td>0</td>\n",
       "      <td>0</td>\n",
       "      <td>3</td>\n",
       "      <td>1</td>\n",
       "      <td>-15.35687</td>\n",
       "      <td>-56.41299</td>\n",
       "      <td>SPRF-MT</td>\n",
       "      <td>DEL01-MT</td>\n",
       "    </tr>\n",
       "    <tr>\n",
       "      <th>9</th>\n",
       "      <td>2017-01-01</td>\n",
       "      <td>sunday</td>\n",
       "      <td>08:30:00</td>\n",
       "      <td>MA</td>\n",
       "      <td>316.0</td>\n",
       "      <td>375</td>\n",
       "      <td>BACABAL</td>\n",
       "      <td>Alcohol consumption</td>\n",
       "      <td>Head-on collision</td>\n",
       "      <td>With dead victims</td>\n",
       "      <td>...</td>\n",
       "      <td>0</td>\n",
       "      <td>0</td>\n",
       "      <td>1</td>\n",
       "      <td>0</td>\n",
       "      <td>0</td>\n",
       "      <td>2</td>\n",
       "      <td>-4.21350</td>\n",
       "      <td>-44.66290</td>\n",
       "      <td>SPRF-MA</td>\n",
       "      <td>DEL02-MA</td>\n",
       "    </tr>\n",
       "  </tbody>\n",
       "</table>\n",
       "<p>10 rows × 27 columns</p>\n",
       "</div>"
      ],
      "text/plain": [
       "  inverse_data week_day      hour state  road_id     km            city  \\\n",
       "0   2017-01-01   sunday  01:45:00    RS    116.0   34,9         VACARIA   \n",
       "1   2017-01-01   sunday  01:00:00    PR    376.0    636  TIJUCAS DO SUL   \n",
       "2   2017-01-01   sunday  04:40:00    BA    101.0     65      ENTRE RIOS   \n",
       "3   2017-01-01   sunday  06:30:00    PA    316.0   72,5       CASTANHAL   \n",
       "4   2017-01-01   sunday  09:00:00    GO     20.0  220,5           POSSE   \n",
       "5   2017-01-01   sunday  07:40:00    RN    405.0     30         MOSSORO   \n",
       "6   2017-01-01   sunday  10:35:00    PR    376.0  249,5       APUCARANA   \n",
       "7   2017-01-01   sunday  11:50:00    MG    262.0  483,1    BOM DESPACHO   \n",
       "8   2017-01-01   sunday  10:30:00    MT    364.0    469   VARZEA GRANDE   \n",
       "9   2017-01-01   sunday  08:30:00    MA    316.0    375         BACABAL   \n",
       "\n",
       "                               cause_of_accident             type_of_accident  \\\n",
       "0              Mechanical loss/defect of vehicle           Rear-end collision   \n",
       "1                          Incompatible velocity                 Run-off-road   \n",
       "2                            Driver was sleeping            Head-on collision   \n",
       "3       Driver's lack of attention to conveyance        Side impact collision   \n",
       "4                                  Road's defect  Collision with fixed object   \n",
       "5                            Alcohol consumption            Head-on collision   \n",
       "6  Disrespect of safe distance from the next car           Rear-end collision   \n",
       "7                            Driver was sleeping        Side impact collision   \n",
       "8              Mechanical loss/defect of vehicle                     Overturn   \n",
       "9                            Alcohol consumption            Head-on collision   \n",
       "\n",
       "      victims_condition  ... slightly_injured severely_injured uninjured  \\\n",
       "0  With injured victims  ...                4                0         2   \n",
       "1     With dead victims  ...                0                0         1   \n",
       "2     With dead victims  ...                1                1         2   \n",
       "3     With dead victims  ...                0                0         3   \n",
       "4  With injured victims  ...                2                1         0   \n",
       "5     With dead victims  ...                0                0         1   \n",
       "6  With injured victims  ...                1                0         4   \n",
       "7       Without victims  ...                0                0         2   \n",
       "8  With injured victims  ...                3                0         0   \n",
       "9     With dead victims  ...                0                0         1   \n",
       "\n",
       "  ignored total_injured  vehicles_involved  latitude  longitude  regional  \\\n",
       "0       0             4                  2 -28.50712  -50.94118   SPRF-RS   \n",
       "1       0             0                  2 -25.75400  -49.12660   SPRF-PR   \n",
       "2       0             2                  2 -11.96180  -38.09530   SPRF-BA   \n",
       "3       0             0                  3  -1.28998  -47.83483   SPRF-PA   \n",
       "4       0             3                  1 -14.14221  -46.32259   SPRF-DF   \n",
       "5       0             0                  2  -5.31360  -37.56900   SPRF-RN   \n",
       "6       0             1                  2 -23.61074  -51.39895   SPRF-PR   \n",
       "7       0             0                  2 -19.78562  -45.30956   SPRF-MG   \n",
       "8       0             3                  1 -15.35687  -56.41299   SPRF-MT   \n",
       "9       0             0                  2  -4.21350  -44.66290   SPRF-MA   \n",
       "\n",
       "   police_station  \n",
       "0        DEL05-RS  \n",
       "1        DEL01-PR  \n",
       "2        DEL01-BA  \n",
       "3        DEL01-PA  \n",
       "4        DEL02-DF  \n",
       "5        DEL04-RN  \n",
       "6        DEL07-PR  \n",
       "7        DEL08-MG  \n",
       "8        DEL01-MT  \n",
       "9        DEL02-MA  \n",
       "\n",
       "[10 rows x 27 columns]"
      ]
     },
     "execution_count": 4,
     "metadata": {},
     "output_type": "execute_result"
    }
   ],
   "source": [
    "df_orig.head(10)\n"
   ]
  },
  {
   "cell_type": "code",
   "execution_count": 5,
   "metadata": {},
   "outputs": [
    {
     "name": "stdout",
     "output_type": "stream",
     "text": [
      "<class 'pandas.core.frame.DataFrame'>\n",
      "RangeIndex: 463152 entries, 0 to 463151\n",
      "Data columns (total 27 columns):\n",
      " #   Column              Non-Null Count   Dtype  \n",
      "---  ------              --------------   -----  \n",
      " 0   inverse_data        463152 non-null  object \n",
      " 1   week_day            463152 non-null  object \n",
      " 2   hour                463152 non-null  object \n",
      " 3   state               463152 non-null  object \n",
      " 4   road_id             462162 non-null  float64\n",
      " 5   km                  462162 non-null  object \n",
      " 6   city                463152 non-null  object \n",
      " 7   cause_of_accident   463152 non-null  object \n",
      " 8   type_of_accident    463152 non-null  object \n",
      " 9   victims_condition   463152 non-null  object \n",
      " 10  weather_timestamp   463152 non-null  object \n",
      " 11  road_direction      463152 non-null  object \n",
      " 12  wheather_condition  463152 non-null  object \n",
      " 13  road_type           463152 non-null  object \n",
      " 14  road_delineation    463152 non-null  object \n",
      " 15  people              463152 non-null  int64  \n",
      " 16  deaths              463152 non-null  int64  \n",
      " 17  slightly_injured    463152 non-null  int64  \n",
      " 18  severely_injured    463152 non-null  int64  \n",
      " 19  uninjured           463152 non-null  int64  \n",
      " 20  ignored             463152 non-null  int64  \n",
      " 21  total_injured       463152 non-null  int64  \n",
      " 22  vehicles_involved   463152 non-null  int64  \n",
      " 23  latitude            463152 non-null  float64\n",
      " 24  longitude           463152 non-null  float64\n",
      " 25  regional            463142 non-null  object \n",
      " 26  police_station      461842 non-null  object \n",
      "dtypes: float64(3), int64(8), object(16)\n",
      "memory usage: 95.4+ MB\n"
     ]
    }
   ],
   "source": [
    "df_orig.info()"
   ]
  },
  {
   "cell_type": "code",
   "execution_count": 6,
   "metadata": {},
   "outputs": [
    {
     "data": {
      "text/plain": [
       "array([ 0,  1,  2,  3,  4,  5,  6,  8, 21,  7, 11,  9, 10, 13, 12, 19])"
      ]
     },
     "execution_count": 6,
     "metadata": {},
     "output_type": "execute_result"
    }
   ],
   "source": [
    "df_orig['deaths'].unique()"
   ]
  },
  {
   "cell_type": "code",
   "execution_count": 7,
   "metadata": {},
   "outputs": [
    {
     "data": {
      "text/plain": [
       "array(['sunday', 'monday', 'tuesday', 'wednesday', 'thursday', 'friday',\n",
       "       'saturday'], dtype=object)"
      ]
     },
     "execution_count": 7,
     "metadata": {},
     "output_type": "execute_result"
    }
   ],
   "source": [
    "df_orig['week_day'].unique()"
   ]
  },
  {
   "cell_type": "code",
   "execution_count": 8,
   "metadata": {},
   "outputs": [
    {
     "data": {
      "text/plain": [
       "array(['01:45:00', '01:00:00', '04:40:00', ..., '03:56:00', '04:36:00',\n",
       "       '03:13:00'], dtype=object)"
      ]
     },
     "execution_count": 8,
     "metadata": {},
     "output_type": "execute_result"
    }
   ],
   "source": [
    "df_orig['hour'].unique()"
   ]
  },
  {
   "cell_type": "code",
   "execution_count": 9,
   "metadata": {},
   "outputs": [
    {
     "data": {
      "text/plain": [
       "85"
      ]
     },
     "execution_count": 9,
     "metadata": {},
     "output_type": "execute_result"
    }
   ],
   "source": [
    "len(df_orig['cause_of_accident'].unique())"
   ]
  },
  {
   "cell_type": "code",
   "execution_count": 10,
   "metadata": {},
   "outputs": [
    {
     "data": {
      "text/plain": [
       "array(['Rear-end collision', 'Run-off-road', 'Head-on collision',\n",
       "       'Side impact collision', 'Collision with fixed object', 'Overturn',\n",
       "       'Collision with moving object', 'Cargo spill',\n",
       "       'Pedestrian collision', 'Broadside collision', 'Vehicle fire',\n",
       "       'Rollover', 'Animal collision', 'Chain reaction crash (pile-up)',\n",
       "       'Minor incidental damage', 'Fall of vehicle occupant',\n",
       "       'Collision with object', 'Not informed',\n",
       "       'Side collision (same direction)', 'Unusual events',\n",
       "       'Side collision (opposite direction)'], dtype=object)"
      ]
     },
     "execution_count": 10,
     "metadata": {},
     "output_type": "execute_result"
    }
   ],
   "source": [
    "df_orig['type_of_accident'].unique()"
   ]
  },
  {
   "cell_type": "code",
   "execution_count": 11,
   "metadata": {},
   "outputs": [
    {
     "data": {
      "text/plain": [
       "array(['With injured victims', 'With dead victims', 'Without victims'],\n",
       "      dtype=object)"
      ]
     },
     "execution_count": 11,
     "metadata": {},
     "output_type": "execute_result"
    }
   ],
   "source": [
    "df_orig['victims_condition'].unique()"
   ]
  },
  {
   "cell_type": "markdown",
   "metadata": {},
   "source": [
    "Подходит для класса ^"
   ]
  },
  {
   "cell_type": "code",
   "execution_count": 12,
   "metadata": {},
   "outputs": [
    {
     "data": {
      "text/plain": [
       "array(['Clear sky', 'Drizzle', 'Cloudy', 'Sunny', 'Rainy', 'Fog',\n",
       "       'Ignored', 'Windy', 'Hail', 'Snowy'], dtype=object)"
      ]
     },
     "execution_count": 12,
     "metadata": {},
     "output_type": "execute_result"
    }
   ],
   "source": [
    "df_orig['wheather_condition'].unique()"
   ]
  },
  {
   "cell_type": "code",
   "execution_count": 13,
   "metadata": {},
   "outputs": [
    {
     "data": {
      "text/plain": [
       "array(['Simple', 'Double', 'Multiple'], dtype=object)"
      ]
     },
     "execution_count": 13,
     "metadata": {},
     "output_type": "execute_result"
    }
   ],
   "source": [
    "df_orig['road_type'].unique()"
   ]
  },
  {
   "cell_type": "code",
   "execution_count": 14,
   "metadata": {},
   "outputs": [
    {
     "data": {
      "text/plain": [
       "array([ 2,  3,  1,  4,  8,  7,  6,  5, 12,  9, 11, 14, 10, 13, 15, 16, 23,\n",
       "       21])"
      ]
     },
     "execution_count": 14,
     "metadata": {},
     "output_type": "execute_result"
    }
   ],
   "source": [
    "df_orig['vehicles_involved'].unique()"
   ]
  },
  {
   "cell_type": "code",
   "execution_count": 15,
   "metadata": {},
   "outputs": [
    {
     "data": {
      "text/plain": [
       "<Axes: xlabel='state', ylabel='count'>"
      ]
     },
     "execution_count": 15,
     "metadata": {},
     "output_type": "execute_result"
    },
    {
     "data": {
      "image/png": "[encoded data removed]",
      "text/plain": [
       "<Figure size 640x480 with 1 Axes>"
      ]
     },
     "metadata": {},
     "output_type": "display_data"
    }
   ],
   "source": [
    "sns.countplot(x=df_orig['state'])"
   ]
  },
  {
   "cell_type": "markdown",
   "metadata": {},
   "source": [
    "Датасет для обучения"
   ]
  },
  {
   "cell_type": "code",
   "execution_count": 16,
   "metadata": {},
   "outputs": [],
   "source": [
    "df_train = df_orig[['week_day', 'hour', 'cause_of_accident', 'type_of_accident', 'wheather_condition', 'road_type', 'vehicles_involved', 'victims_condition']].copy()"
   ]
  },
  {
   "cell_type": "code",
   "execution_count": 17,
   "metadata": {},
   "outputs": [
    {
     "data": {
      "text/html": [
       "<div>\n",
       "<style scoped>\n",
       "    .dataframe tbody tr th:only-of-type {\n",
       "        vertical-align: middle;\n",
       "    }\n",
       "\n",
       "    .dataframe tbody tr th {\n",
       "        vertical-align: top;\n",
       "    }\n",
       "\n",
       "    .dataframe thead th {\n",
       "        text-align: right;\n",
       "    }\n",
       "</style>\n",
       "<table border=\"1\" class=\"dataframe\">\n",
       "  <thead>\n",
       "    <tr style=\"text-align: right;\">\n",
       "      <th></th>\n",
       "      <th>week_day</th>\n",
       "      <th>hour</th>\n",
       "      <th>cause_of_accident</th>\n",
       "      <th>type_of_accident</th>\n",
       "      <th>wheather_condition</th>\n",
       "      <th>road_type</th>\n",
       "      <th>vehicles_involved</th>\n",
       "      <th>victims_condition</th>\n",
       "    </tr>\n",
       "  </thead>\n",
       "  <tbody>\n",
       "    <tr>\n",
       "      <th>0</th>\n",
       "      <td>sunday</td>\n",
       "      <td>01:45:00</td>\n",
       "      <td>Mechanical loss/defect of vehicle</td>\n",
       "      <td>Rear-end collision</td>\n",
       "      <td>Clear sky</td>\n",
       "      <td>Simple</td>\n",
       "      <td>2</td>\n",
       "      <td>With injured victims</td>\n",
       "    </tr>\n",
       "    <tr>\n",
       "      <th>1</th>\n",
       "      <td>sunday</td>\n",
       "      <td>01:00:00</td>\n",
       "      <td>Incompatible velocity</td>\n",
       "      <td>Run-off-road</td>\n",
       "      <td>Drizzle</td>\n",
       "      <td>Double</td>\n",
       "      <td>2</td>\n",
       "      <td>With dead victims</td>\n",
       "    </tr>\n",
       "    <tr>\n",
       "      <th>2</th>\n",
       "      <td>sunday</td>\n",
       "      <td>04:40:00</td>\n",
       "      <td>Driver was sleeping</td>\n",
       "      <td>Head-on collision</td>\n",
       "      <td>Cloudy</td>\n",
       "      <td>Simple</td>\n",
       "      <td>2</td>\n",
       "      <td>With dead victims</td>\n",
       "    </tr>\n",
       "    <tr>\n",
       "      <th>3</th>\n",
       "      <td>sunday</td>\n",
       "      <td>06:30:00</td>\n",
       "      <td>Driver's lack of attention to conveyance</td>\n",
       "      <td>Side impact collision</td>\n",
       "      <td>Clear sky</td>\n",
       "      <td>Simple</td>\n",
       "      <td>3</td>\n",
       "      <td>With dead victims</td>\n",
       "    </tr>\n",
       "    <tr>\n",
       "      <th>4</th>\n",
       "      <td>sunday</td>\n",
       "      <td>09:00:00</td>\n",
       "      <td>Road's defect</td>\n",
       "      <td>Collision with fixed object</td>\n",
       "      <td>Clear sky</td>\n",
       "      <td>Simple</td>\n",
       "      <td>1</td>\n",
       "      <td>With injured victims</td>\n",
       "    </tr>\n",
       "  </tbody>\n",
       "</table>\n",
       "</div>"
      ],
      "text/plain": [
       "  week_day      hour                         cause_of_accident  \\\n",
       "0   sunday  01:45:00         Mechanical loss/defect of vehicle   \n",
       "1   sunday  01:00:00                     Incompatible velocity   \n",
       "2   sunday  04:40:00                       Driver was sleeping   \n",
       "3   sunday  06:30:00  Driver's lack of attention to conveyance   \n",
       "4   sunday  09:00:00                             Road's defect   \n",
       "\n",
       "              type_of_accident wheather_condition road_type  \\\n",
       "0           Rear-end collision          Clear sky    Simple   \n",
       "1                 Run-off-road            Drizzle    Double   \n",
       "2            Head-on collision             Cloudy    Simple   \n",
       "3        Side impact collision          Clear sky    Simple   \n",
       "4  Collision with fixed object          Clear sky    Simple   \n",
       "\n",
       "   vehicles_involved     victims_condition  \n",
       "0                  2  With injured victims  \n",
       "1                  2     With dead victims  \n",
       "2                  2     With dead victims  \n",
       "3                  3     With dead victims  \n",
       "4                  1  With injured victims  "
      ]
     },
     "execution_count": 17,
     "metadata": {},
     "output_type": "execute_result"
    }
   ],
   "source": [
    "df_train.head()"
   ]
  },
  {
   "cell_type": "code",
   "execution_count": 18,
   "metadata": {},
   "outputs": [
    {
     "name": "stdout",
     "output_type": "stream",
     "text": [
      "<class 'pandas.core.frame.DataFrame'>\n",
      "RangeIndex: 463152 entries, 0 to 463151\n",
      "Data columns (total 8 columns):\n",
      " #   Column              Non-Null Count   Dtype \n",
      "---  ------              --------------   ----- \n",
      " 0   week_day            463152 non-null  object\n",
      " 1   hour                463152 non-null  object\n",
      " 2   cause_of_accident   463152 non-null  object\n",
      " 3   type_of_accident    463152 non-null  object\n",
      " 4   wheather_condition  463152 non-null  object\n",
      " 5   road_type           463152 non-null  object\n",
      " 6   vehicles_involved   463152 non-null  int64 \n",
      " 7   victims_condition   463152 non-null  object\n",
      "dtypes: int64(1), object(7)\n",
      "memory usage: 28.3+ MB\n"
     ]
    }
   ],
   "source": [
    "df_train.info()"
   ]
  },
  {
   "cell_type": "code",
   "execution_count": 19,
   "metadata": {},
   "outputs": [
    {
     "data": {
      "text/plain": [
       "array(['sunday', 'monday', 'tuesday', 'wednesday', 'thursday', 'friday',\n",
       "       'saturday'], dtype=object)"
      ]
     },
     "execution_count": 19,
     "metadata": {},
     "output_type": "execute_result"
    }
   ],
   "source": [
    "df_train['week_day'].unique()"
   ]
  },
  {
   "cell_type": "code",
   "execution_count": 20,
   "metadata": {},
   "outputs": [],
   "source": [
    "def series_to_map_dict(ser):\n",
    "    res_dict = {}\n",
    "\n",
    "    val_arr = ser.unique()\n",
    "    for num, val in zip(range(len(val_arr)), val_arr):\n",
    "        res_dict[val] = num\n",
    "    \n",
    "    return res_dict"
   ]
  },
  {
   "cell_type": "code",
   "execution_count": 21,
   "metadata": {},
   "outputs": [],
   "source": [
    "def string_timestamp_to_sec(inp_str):\n",
    "    inp = inp_str.split(':')\n",
    "    return int(inp[0])*3600 + int(inp[1])*60 + int(inp[2])"
   ]
  },
  {
   "cell_type": "code",
   "execution_count": null,
   "metadata": {},
   "outputs": [
    {
     "data": {
      "text/html": [
       "<div>\n",
       "<style scoped>\n",
       "    .dataframe tbody tr th:only-of-type {\n",
       "        vertical-align: middle;\n",
       "    }\n",
       "\n",
       "    .dataframe tbody tr th {\n",
       "        vertical-align: top;\n",
       "    }\n",
       "\n",
       "    .dataframe thead th {\n",
       "        text-align: right;\n",
       "    }\n",
       "</style>\n",
       "<table border=\"1\" class=\"dataframe\">\n",
       "  <thead>\n",
       "    <tr style=\"text-align: right;\">\n",
       "      <th></th>\n",
       "      <th>week_day</th>\n",
       "      <th>hour</th>\n",
       "      <th>cause_of_accident</th>\n",
       "      <th>type_of_accident</th>\n",
       "      <th>wheather_condition</th>\n",
       "      <th>road_type</th>\n",
       "      <th>vehicles_involved</th>\n",
       "      <th>victims_condition</th>\n",
       "    </tr>\n",
       "  </thead>\n",
       "  <tbody>\n",
       "    <tr>\n",
       "      <th>0</th>\n",
       "      <td>6</td>\n",
       "      <td>6300</td>\n",
       "      <td>0</td>\n",
       "      <td>0</td>\n",
       "      <td>0</td>\n",
       "      <td>0</td>\n",
       "      <td>2</td>\n",
       "      <td>0</td>\n",
       "    </tr>\n",
       "    <tr>\n",
       "      <th>1</th>\n",
       "      <td>6</td>\n",
       "      <td>3600</td>\n",
       "      <td>1</td>\n",
       "      <td>1</td>\n",
       "      <td>1</td>\n",
       "      <td>1</td>\n",
       "      <td>2</td>\n",
       "      <td>1</td>\n",
       "    </tr>\n",
       "    <tr>\n",
       "      <th>2</th>\n",
       "      <td>6</td>\n",
       "      <td>16800</td>\n",
       "      <td>2</td>\n",
       "      <td>2</td>\n",
       "      <td>2</td>\n",
       "      <td>0</td>\n",
       "      <td>2</td>\n",
       "      <td>1</td>\n",
       "    </tr>\n",
       "    <tr>\n",
       "      <th>3</th>\n",
       "      <td>6</td>\n",
       "      <td>23400</td>\n",
       "      <td>3</td>\n",
       "      <td>3</td>\n",
       "      <td>0</td>\n",
       "      <td>0</td>\n",
       "      <td>3</td>\n",
       "      <td>1</td>\n",
       "    </tr>\n",
       "    <tr>\n",
       "      <th>4</th>\n",
       "      <td>6</td>\n",
       "      <td>32400</td>\n",
       "      <td>4</td>\n",
       "      <td>4</td>\n",
       "      <td>0</td>\n",
       "      <td>0</td>\n",
       "      <td>1</td>\n",
       "      <td>0</td>\n",
       "    </tr>\n",
       "  </tbody>\n",
       "</table>\n",
       "</div>"
      ],
      "text/plain": [
       "   week_day   hour  cause_of_accident  type_of_accident  wheather_condition  \\\n",
       "0         6   6300                  0                 0                   0   \n",
       "1         6   3600                  1                 1                   1   \n",
       "2         6  16800                  2                 2                   2   \n",
       "3         6  23400                  3                 3                   0   \n",
       "4         6  32400                  4                 4                   0   \n",
       "\n",
       "   road_type  vehicles_involved  victims_condition  \n",
       "0          0                  2                  0  \n",
       "1          1                  2                  1  \n",
       "2          0                  2                  1  \n",
       "3          0                  3                  1  \n",
       "4          0                  1                  0  "
      ]
     },
     "execution_count": 22,
     "metadata": {},
     "output_type": "execute_result"
    }
   ],
   "source": [
    "df_mapped = df_train.copy()\n",
    "\n",
    "df_mapped['wheather_condition'] = df_mapped['week_day'].map({'sunday': 6, 'monday': 0, 'tuesday': 1, 'wednesday': 2, 'thursday': 3, 'friday': 4, 'saturday': 5})\n",
    "\n",
    "cause_of_accident_map = series_to_map_dict(df_mapped['cause_of_accident'])\n",
    "type_of_accident_map = series_to_map_dict(df_mapped['type_of_accident'])\n",
    "wheather_condition_map = series_to_map_dict(df_mapped['wheather_condition'])\n",
    "road_type_map = series_to_map_dict(df_mapped['road_type'])\n",
    "victims_condition_map = series_to_map_dict(df_mapped['victims_condition'])\n",
    "\n",
    "df_mapped['cause_of_accident'] = df_mapped['cause_of_accident'].map(cause_of_accident_map)\n",
    "df_mapped['type_of_accident'] = df_mapped['type_of_accident'].map(type_of_accident_map)\n",
    "df_mapped['wheather_condition'] = df_mapped['wheather_condition'].map(wheather_condition_map)\n",
    "df_mapped['road_type'] = df_mapped['road_type'].map(road_type_map)\n",
    "df_mapped['victims_condition'] = df_mapped['victims_condition'].map(victims_condition_map)\n",
    "\n",
    "df_mapped['hour'] = df_mapped['hour'].apply(lambda x: string_timestamp_to_sec(x))\n",
    "\n",
    "df_mapped.head()"
   ]
  },
  {
   "cell_type": "code",
   "execution_count": 23,
   "metadata": {},
   "outputs": [
    {
     "data": {
      "text/plain": [
       "week_day              0\n",
       "hour                  0\n",
       "cause_of_accident     0\n",
       "type_of_accident      0\n",
       "wheather_condition    0\n",
       "road_type             0\n",
       "vehicles_involved     0\n",
       "victims_condition     0\n",
       "dtype: int64"
      ]
     },
     "execution_count": 23,
     "metadata": {},
     "output_type": "execute_result"
    }
   ],
   "source": [
    "df_mapped.isna().sum()"
   ]
  },
  {
   "cell_type": "code",
   "execution_count": 24,
   "metadata": {},
   "outputs": [
    {
     "data": {
      "image/png": "[encoded data removed]",
      "text/plain": [
       "<Figure size 1000x700 with 2 Axes>"
      ]
     },
     "metadata": {},
     "output_type": "display_data"
    }
   ],
   "source": [
    "plt.figure(figsize=(10,7))\n",
    "sns.heatmap(df_mapped.corr(numeric_only = True), annot=True)\n",
    "plt.show()"
   ]
  },
  {
   "cell_type": "markdown",
   "metadata": {},
   "source": [
    "### Разделение набора данных"
   ]
  },
  {
   "cell_type": "code",
   "execution_count": 25,
   "metadata": {},
   "outputs": [
    {
     "name": "stdout",
     "output_type": "stream",
     "text": [
      "X shape: (463152, 7) | y shape: (463152,) \n"
     ]
    }
   ],
   "source": [
    "X = df_mapped.drop(['victims_condition'], axis=1)\n",
    "y = df_mapped['victims_condition']\n",
    "print(f'X shape: {X.shape} | y shape: {y.shape} ')"
   ]
  },
  {
   "cell_type": "code",
   "execution_count": 26,
   "metadata": {},
   "outputs": [
    {
     "data": {
      "text/plain": [
       "TtestResult(statistic=np.float64(0.00043943752097186833), pvalue=np.float64(0.999649379787122), df=np.float64(463150.0))"
      ]
     },
     "execution_count": 26,
     "metadata": {},
     "output_type": "execute_result"
    }
   ],
   "source": [
    "import scipy.stats as stats\n",
    "\n",
    "X_train, X_test, y_train, y_test = train_test_split(X, y, test_size=0.20, shuffle=True, random_state=15, stratify=y)\n",
    "\n",
    "stats.ttest_ind(a=y_train, b=y_test)"
   ]
  },
  {
   "cell_type": "code",
   "execution_count": 27,
   "metadata": {},
   "outputs": [
    {
     "name": "stdout",
     "output_type": "stream",
     "text": [
      "LDA: 0.717285 (0.000009)\n",
      "KNN: 0.691065 (0.001384)\n",
      "CART: 0.635891 (0.001265)\n",
      "NB: 0.717025 (0.000143)\n"
     ]
    }
   ],
   "source": [
    "models = []\n",
    "#models.append(('LR', LogisticRegression(solver='lbfgs', max_iter=40000)))\n",
    "models.append(('LDA', LinearDiscriminantAnalysis()))\n",
    "models.append(('KNN', KNeighborsClassifier()))\n",
    "models.append(('CART', DecisionTreeClassifier()))\n",
    "models.append(('NB', GaussianNB()))\n",
    "#models.append(('SVC', SVC(gamma='auto')))\n",
    "\n",
    "# оцениваем их метрики\n",
    "results = []\n",
    "model_names = []\n",
    "for name, model in models:\n",
    "  kfold = StratifiedKFold(n_splits=10, random_state=1, shuffle=True)\n",
    "  cv_results = cross_val_score(model, X_train, y_train, cv=kfold, scoring='accuracy')\n",
    "  # print(cv_results)\n",
    "  results.append(cv_results)\n",
    "  model_names.append(name)\n",
    "  print('%s: %f (%f)' % (name, cv_results.mean(), cv_results.std()))"
   ]
  },
  {
   "cell_type": "markdown",
   "metadata": {},
   "source": [
    "NB и LDA"
   ]
  },
  {
   "cell_type": "code",
   "execution_count": 47,
   "metadata": {},
   "outputs": [
    {
     "name": "stdout",
     "output_type": "stream",
     "text": [
      "sk LDA accuracy: 0.7172976649285876\n",
      "sk LDA prediction: [0 0 0 ... 0 0 0]\n",
      "sk transformed features\n",
      "[[ 3.83902628  0.60284798  1.96259944 -1.14087999  1.22937974]\n",
      " [ 1.08265154  0.07839675  2.12895425  1.4267244   2.74940782]]\n"
     ]
    }
   ],
   "source": [
    "sk_lda = LinearDiscriminantAnalysis(solver='eigen')\n",
    "sk_lda.fit(X_train, y_train)\n",
    "sk_lda_pred_res = sk_lda.predict(X_test)\n",
    "sk_transformed = sk_lda.transform(X_train)\n",
    "sk_lda_accuracy = accuracy_score(y_test, sk_lda_pred_res)\n",
    "\n",
    "print(f'sk LDA accuracy: {sk_lda_accuracy}')\n",
    "print(f'sk LDA prediction: {sk_lda_pred_res}')\n",
    "print('sk transformed features', sk_transformed[:5].T, sep='\\n')"
   ]
  },
  {
   "cell_type": "code",
   "execution_count": 32,
   "metadata": {},
   "outputs": [
    {
     "data": {
      "text/plain": [
       "92631"
      ]
     },
     "execution_count": 32,
     "metadata": {},
     "output_type": "execute_result"
    }
   ],
   "source": [
    "len(sk_lda_pred_res)"
   ]
  },
  {
   "cell_type": "code",
   "execution_count": 45,
   "metadata": {},
   "outputs": [
    {
     "data": {
      "text/plain": [
       "{np.int64(0): np.int64(92630), np.int64(1): np.int64(1)}"
      ]
     },
     "execution_count": 45,
     "metadata": {},
     "output_type": "execute_result"
    }
   ],
   "source": [
    "unique, counts = np.unique(sk_lda_pred_res, return_counts=True)\n",
    "dict(zip(unique, counts))"
   ]
  },
  {
   "cell_type": "code",
   "execution_count": 49,
   "metadata": {},
   "outputs": [
    {
     "data": {
      "text/plain": [
       "{np.int64(0): np.int64(66443),\n",
       " np.int64(1): np.int64(6269),\n",
       " np.int64(2): np.int64(19919)}"
      ]
     },
     "execution_count": 49,
     "metadata": {},
     "output_type": "execute_result"
    }
   ],
   "source": [
    "unique, counts = np.unique(y_test, return_counts=True)\n",
    "dict(zip(unique, counts))"
   ]
  }
 ],
 "metadata": {
  "kernelspec": {
   "display_name": "Python 3",
   "language": "python",
   "name": "python3"
  },
  "language_info": {
   "codemirror_mode": {
    "name": "ipython",
    "version": 3
   },
   "file_extension": ".py",
   "mimetype": "text/x-python",
   "name": "python",
   "nbconvert_exporter": "python",
   "pygments_lexer": "ipython3",
   "version": "3.10.12"
  }
 },
 "nbformat": 4,
 "nbformat_minor": 2
}
